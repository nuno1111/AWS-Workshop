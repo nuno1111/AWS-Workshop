{
	"metadata": {
		"kernelspec": {
			"name": "glue_pyspark",
			"display_name": "Glue PySpark",
			"language": "python"
		},
		"language_info": {
			"name": "Python_Glue_Session",
			"mimetype": "text/x-python",
			"codemirror_mode": {
				"name": "python",
				"version": 3
			},
			"pygments_lexer": "python3",
			"file_extension": ".py"
		}
	},
	"nbformat_minor": 4,
	"nbformat": 4,
	"cells": [
		{
			"cell_type": "markdown",
			"source": "# S023-dataprocessing Job\n### 초기데이터 적재후에 DW 마트를 생성하는 부분\n### 기존 Airflow의 다음 부분이 해당\n```python\nget_raw_3 >> prep_hospital >> target_revision >> union_hospital >> multiplication >> merge_raw\nget_raw_3 >> prep_pharmacy >> multiplication_p >> merge_raw\nget_raw_3 >> prep_dentist >> merge_raw\n```",
			"metadata": {}
		},
		{
			"cell_type": "code",
			"source": "%%configure \n{\n    \"--datalake-formats\": \"iceberg\",\n    \"--conf\": \"spark.sql.catalog.glue_catalog=org.apache.iceberg.spark.SparkCatalog --conf spark.sql.catalog.glue_catalog.type=glue --conf spark.sql.defaultCatalog=glue_catalog\"\n}",
			"metadata": {
				"trusted": true
			},
			"execution_count": 2,
			"outputs": [
				{
					"name": "stdout",
					"text": "Welcome to the Glue Interactive Sessions Kernel\nFor more information on available magic commands, please type %help in any new cell.\n\nPlease view our Getting Started page to access the most up-to-date information on the Interactive Sessions kernel: https://docs.aws.amazon.com/glue/latest/dg/interactive-sessions.html\nInstalled kernel version: 1.0.8 \nThe following configurations have been updated: {'--datalake-formats': 'iceberg', '--conf': 'spark.sql.catalog.glue_catalog=org.apache.iceberg.spark.SparkCatalog --conf spark.sql.catalog.glue_catalog.type=glue --conf spark.sql.defaultCatalog=glue_catalog'}\n",
					"output_type": "stream"
				}
			]
		},
		{
			"cell_type": "code",
			"source": "%idle_timeout 60\n%glue_version 5.0\n%worker_type G.1X\n%number_of_workers 2\n\nimport sys\nfrom awsglue.transforms import *\nfrom awsglue.utils import getResolvedOptions\nfrom pyspark.context import SparkContext\nfrom awsglue.context import GlueContext\nfrom awsglue.job import Job\n  \nsc = SparkContext.getOrCreate() \nglueContext = GlueContext(sc) \nspark = glueContext.spark_session\njob = Job(glueContext) ",
			"metadata": {
				"trusted": true,
				"tags": []
			},
			"execution_count": 1,
			"outputs": [
				{
					"name": "stdout",
					"text": "Current idle_timeout is None minutes.\nidle_timeout has been set to 60 minutes.\nSetting Glue version to: 5.0\nPrevious worker type: None\nSetting new worker type to: G.1X\nPrevious number of workers: None\nSetting new number of workers to: 2\nTrying to create a Glue session for the kernel.\nSession Type: glueetl\nWorker Type: G.1X\nNumber of Workers: 2\nIdle Timeout: 60\nSession ID: 1c0acd5c-a377-469e-909b-e4fb45eadc49\nApplying the following default arguments:\n--glue_kernel_version 1.0.8\n--enable-glue-datacatalog true\n--datalake-formats iceberg\n--conf spark.sql.catalog.glue_catalog=org.apache.iceberg.spark.SparkCatalog --conf spark.sql.catalog.glue_catalog.type=glue --conf spark.sql.defaultCatalog=glue_catalog\nWaiting for session 1c0acd5c-a377-469e-909b-e4fb45eadc49 to get into ready status...\nSession 1c0acd5c-a377-469e-909b-e4fb45eadc49 has been created.\n\n",
					"output_type": "stream"
				}
			]
		},
		{
			"cell_type": "code",
			"source": "# MWAA에서 전달한 파라미터들을 받기\nargs = getResolvedOptions(sys.argv, [\n    'JOB_NAME',           # 기본 파라미터 (항상 있음) \\\n    'yyyymm'      # --database_name=prod_db\n]) \nyyyymm = args['yyyymm'] # 실제로는 Param으로 받아오기\n# yyyymm = \"202507\"\n\ns3_bucket = \"s3://demo.nice.co.kr.datalake\"\nYYYY = yyyymm[:4]  # \"2025\"\nMM = yyyymm[4:6]   # \"07\"\nMM_1 = int(MM)\n\nif MM_1 < 4:\n    QTR = \"1\"\nelif MM_1 < 7:\n    QTR = \"2\"\nelif MM_1 < 10:\n    QTR = \"3\"\nelse:\n    QTR = \"4\"",
			"metadata": {
				"trusted": true,
				"tags": []
			},
			"execution_count": 2,
			"outputs": [
				{
					"name": "stdout",
					"text": "\n",
					"output_type": "stream"
				}
			]
		},
		{
			"cell_type": "markdown",
			"source": "## 기본 데이터 적재 : getRaw_3.scala",
			"metadata": {}
		},
		{
			"cell_type": "code",
			"source": "spark.read \\\n    .parquet(f\"{s3_bucket}/DI/CARD/KB_MEDI/RAW/GAIN_1/\"+ YYYY + \"/\" + MM).cache() \\\n    .createOrReplaceTempView(\"KB_GAIN_1\")\n\nspark.read \\\n    .parquet(f\"{s3_bucket}/DI/CARD/KB_MEDI/RAW/GAIN_2/\"+ YYYY + \"/\" + MM).cache() \\\n    .createOrReplaceTempView(\"KB_GAIN_2\")\n\nspark.read \\\n    .parquet(f\"{s3_bucket}/DI/CARD/KB_MEDI/LIST/YEAR=\" + YYYY + \"/QTR=\" + QTR) \\\n    .createOrReplaceTempView(\"list\")\n\nspark.sql(\"\"\"\n    select a.*\n      , b.area1_nm, b.area1_ratio\n      , b.area2_nm, b.area2_ratio\n      , b.area3_nm, b.area3_ratio\n      , b.area4_nm, b.area4_ratio\n      , b.area5_nm, b.area5_ratio\n      , b.area6_nm, b.area6_ratio\n      , b.area7_nm, b.area7_ratio\n      , b.area8_nm, b.area8_ratio\n      , b.area9_nm, b.area9_ratio\n      , b.area10_nm, b.area10_ratio\n    from KB_GAIN_1 a\n      left join KB_GAIN_2 b\n        on a.yyyymm = b.yyyymm\n        and a.key = b.key\n    \"\"\") \\\n    .createOrReplaceTempView(\"data\")",
			"metadata": {
				"trusted": true,
				"tags": []
			},
			"execution_count": 3,
			"outputs": [
				{
					"name": "stdout",
					"text": "\n",
					"output_type": "stream"
				}
			]
		},
		{
			"cell_type": "code",
			"source": "%%sql\nselect count(1) from data",
			"metadata": {
				"trusted": true,
				"tags": []
			},
			"execution_count": 4,
			"outputs": [
				{
					"name": "stdout",
					"text": "+--------+\n|count(1)|\n+--------+\n|   88077|\n+--------+\n",
					"output_type": "stream"
				}
			]
		},
		{
			"cell_type": "code",
			"source": "spark.sql(\"\"\"\nwith data2 as (\n  select  *\n  , case\n      when term_month / 12 < 1 then 1\n      else 0\n    end as term_1_under\n  , case\n      when term_month / 12 < 2 and term_month / 12 >= 1 then 1\n      else 0\n    end as term_1_2\n  , case\n      when term_month / 12 < 3 and term_month / 12 >= 2 then 1\n      else 0\n    end as term_2_3\n  , case\n      when term_month / 12 < 4 and term_month / 12 >= 3 then 1\n      else 0\n    end as term_3_4\n  , case\n      when term_month / 12 < 5 and term_month / 12 >= 4 then 1\n      else 0\n    end as term_4_5\n  , case\n      when term_month / 12 >= 5 then 1\n      else 0\n    end as term_5_over\n  from data\n)\nselect b.yyyymm,a.*\n  , b.sale_cnt, b.sale_amt\n  , b.cnt_m_20under\n  , b.cnt_m_2024, b.cnt_m_2529\n  , b.cnt_m_3034, b.cnt_m_3539\n  , b.cnt_m_4044, b.cnt_m_4549\n  , b.cnt_m_5054, b.cnt_m_5559\n  , b.cnt_m_6064, b.cnt_m_6569\n  , b.cnt_m_70over\n\n  , b.cnt_w_20under\n  , b.cnt_w_2024, b.cnt_w_2529\n  , b.cnt_w_3034, b.cnt_w_3539\n  , b.cnt_w_4044, b.cnt_w_4549\n  , b.cnt_w_5054, b.cnt_w_5559\n  , b.cnt_w_6064, b.cnt_w_6569\n  , b.cnt_w_70over\n\n  , b.sale_m_20under\n  , b.sale_m_2024, b.sale_m_2529\n  , b.sale_m_3034, b.sale_m_3539\n  , b.sale_m_4044, b.sale_m_4549\n  , b.sale_m_5054, b.sale_m_5559\n  , b.sale_m_6064, b.sale_m_6569\n  , b.sale_m_70over\n\n  , b.sale_w_20under\n  , b.sale_w_2024, b.sale_w_2529\n  , b.sale_w_3034, b.sale_w_3539\n  , b.sale_w_4044, b.sale_w_4549\n  , b.sale_w_5054, b.sale_w_5559\n  , b.sale_w_6064, b.sale_w_6569\n  , b.sale_w_70over\n\n  , b.cnt_mon, b.cnt_tue, b.cnt_wed, b.cnt_thu, b.cnt_fri, b.cnt_sat, b.cnt_sun\n  , b.sale_mon, b.sale_tue, b.sale_wed, b.sale_thu, b.sale_fri, b.sale_sat, b.sale_sun\n\n  , b.cnt_0003, b.cnt_0306, b.cnt_0609, b.cnt_0912, b.cnt_1215, b.cnt_1518, b.cnt_1821, b.cnt_2124\n  , b.sale_0003, b.sale_0306, b.sale_0609, b.sale_0912, b.sale_1215, b.sale_1518, b.sale_1821, b.sale_2124\n\n  , b.cnt_12m, b.sale_12m\n  , b.cnt_6m, b.sale_6m\n  , b.cnt_3m, b.sale_3m\n  , b.cnt_1m, b.sale_1m\n  , b.cnt_new, b.sale_new\n\n  , b.term_month\n  , b.term_1_under\n  , b.term_1_2\n  , b.term_2_3\n  , b.term_3_4\n  , b.term_4_5\n  , b.term_5_over\n\n  , b.area1_nm, b.area1_ratio\n  , b.area2_nm, b.area2_ratio\n  , b.area3_nm, b.area3_ratio\n  , b.area4_nm, b.area4_ratio\n  , b.area5_nm, b.area5_ratio\n  , b.area6_nm, b.area6_ratio\n  , b.area7_nm, b.area7_ratio\n  , b.area8_nm, b.area8_ratio\n  , b.area9_nm, b.area9_ratio\n  , b.area10_nm, b.area10_ratio\nfrom list a\n  left join data2 b\n    on a.key = b.key\nwhere b.yyyymm is not null\n\"\"\").cache().createOrReplaceTempView(\"raw_all\")\n",
			"metadata": {
				"trusted": true,
				"tags": []
			},
			"execution_count": 5,
			"outputs": [
				{
					"name": "stdout",
					"text": "\n",
					"output_type": "stream"
				}
			]
		},
		{
			"cell_type": "code",
			"source": "%%sql\nselect count(1) from raw_all",
			"metadata": {
				"trusted": true,
				"tags": []
			},
			"execution_count": 6,
			"outputs": [
				{
					"name": "stdout",
					"text": "+--------+\n|count(1)|\n+--------+\n|   88073|\n+--------+\n",
					"output_type": "stream"
				}
			]
		},
		{
			"cell_type": "markdown",
			"source": "## 병원데이터 : prep_hospital",
			"metadata": {}
		},
		{
			"cell_type": "code",
			"source": "# 영상의학과 제외\n\nspark.sql(\"\"\"\nselect *\nfrom raw_all\nwhere upjong_nm not rlike \"영상\" and upjong_nm not rlike \"약국\"\n\"\"\").createOrReplaceTempView(\"raw_filtered\")\n\nspark.sql(\"\"\"\nwith data as (\n  select *\n    , percent_rank() over(partition by upjong_nm, yyyymm order by sale_amt*1 desc) per_rnk_amt\n  from raw_filtered\n)\nselect *\n  , case\n    when per_rnk_amt >= 0.97 then 'low3p_amt'\n    when per_rnk_amt < 0.97 and per_rnk_amt >= 0.95 then 'low5p_amt'\n    when per_rnk_amt < 0.95 and per_rnk_amt >= 0.93 then 'low7p_amt'\n    when per_rnk_amt < 0.93 and per_rnk_amt >= 0.90 then 'low10p_amt'\n    else '100'\n  end as gubun_amt\nfrom data\norder by sale_amt asc\n\"\"\").createOrReplaceTempView(\"h_rank\")",
			"metadata": {
				"trusted": true,
				"tags": []
			},
			"execution_count": 7,
			"outputs": [
				{
					"name": "stdout",
					"text": "\n",
					"output_type": "stream"
				}
			]
		},
		{
			"cell_type": "code",
			"source": "%%sql\nselect count(1) from h_rank",
			"metadata": {
				"trusted": true,
				"tags": []
			},
			"execution_count": 8,
			"outputs": [
				{
					"name": "stdout",
					"text": "+--------+\n|count(1)|\n+--------+\n|   64598|\n+--------+\n",
					"output_type": "stream"
				}
			]
		},
		{
			"cell_type": "markdown",
			"source": "## target_revision",
			"metadata": {}
		},
		{
			"cell_type": "code",
			"source": "#업종별 보정대상 추출\nspark.sql(\"\"\"\nselect * from h_rank\nwhere (upjong_nm = '가정의학과' or upjong_nm = '신경과' or upjong_nm = '정신건강의학과' or upjong_nm = '이비인후과')\nand gubun_amt = 'low3p_amt'\n\nunion\n\nselect * from h_rank\nwhere (upjong_nm = '내과' or upjong_nm = '정형외과')\nand (gubun_amt = 'low3p_amt' or gubun_amt = 'low5p_amt')\n\nunion\n\nselect * from h_rank\nwhere (upjong_nm = '마취통증의학과' or upjong_nm = '성형외과' or upjong_nm = '신경외과' or upjong_nm = '외과'  or upjong_nm = '재활의학과')\nand (gubun_amt = 'low3p_amt' or gubun_amt = 'low5p_amt' or gubun_amt = 'low7p_amt')\n\nunion\n\nselect * from h_rank\nwhere (upjong_nm = '비뇨기과' or upjong_nm = '산부인과' or upjong_nm = '소아과' or upjong_nm = '안과의원' or upjong_nm = '일반의원'  or upjong_nm = '피부과')\nand (gubun_amt = 'low3p_amt' or gubun_amt = 'low5p_amt' or gubun_amt = 'low7p_amt' or gubun_amt = 'low10p_amt')\n\"\"\").createOrReplaceTempView(\"m_target\")\n\n#보정값 추출\nspark.sql(\"\"\"\nwith data as (\n  select yyyymm, upjong_nm, gubun_amt, min(bigint(sale_amt)) as sale_min\n  from h_rank\n  where gubun_amt = '100'\n  group by 1,2,3\n), data_1 as (\n    select upjong_nm, sale_min from data\n)\nselect distinct b.*\nfrom data_1 a\nleft join raw_all b\non a.upjong_nm = b.upjong_nm\nand a.sale_min = b.sale_amt\n\"\"\").createOrReplaceTempView(\"m_value\")\n\n#보정대상 보정하기\nspark.sql(\"\"\"\nselect a.yyyymm, a.key, a.mega_cd, a.cty_cd, a.admi_cd, a.blk_cd_v3,a.upjong_nm, a.name as store_nm, a.addr, a.per_rnk_amt, a.gubun_amt\n  ,b.sale_cnt,b.sale_amt,b.cnt_m_20under,b.cnt_m_2024,b.cnt_m_2529,b.cnt_m_3034,b.cnt_m_3539,b.cnt_m_4044,b.cnt_m_4549,b.cnt_m_5054,b.cnt_m_5559,b.cnt_m_6064,b.cnt_m_6569,b.cnt_m_70over,b.cnt_w_20under,b.cnt_w_2024,b.cnt_w_2529,b.cnt_w_3034,b.cnt_w_3539,b.cnt_w_4044,b.cnt_w_4549,b.cnt_w_5054,b.cnt_w_5559,b.cnt_w_6064,b.cnt_w_6569,b.cnt_w_70over,b.sale_m_20under,b.sale_m_2024,b.sale_m_2529,b.sale_m_3034,b.sale_m_3539,b.sale_m_4044,b.sale_m_4549,b.sale_m_5054,b.sale_m_5559,b.sale_m_6064,b.sale_m_6569,b.sale_m_70over,b.sale_w_20under,b.sale_w_2024,b.sale_w_2529,b.sale_w_3034,b.sale_w_3539,b.sale_w_4044,b.sale_w_4549,b.sale_w_5054,b.sale_w_5559,b.sale_w_6064,b.sale_w_6569,b.sale_w_70over,b.cnt_mon,b.cnt_tue,b.cnt_wed,b.cnt_thu,b.cnt_fri,b.cnt_sat,b.cnt_sun,b.sale_mon,b.sale_tue,b.sale_wed,b.sale_thu,b.sale_fri,b.sale_sat,b.sale_sun,b.cnt_0003,b.cnt_0306,b.cnt_0609,b.cnt_0912,b.cnt_1215,b.cnt_1518,b.cnt_1821,b.cnt_2124,b.sale_0003,b.sale_0306,b.sale_0609,b.sale_0912,b.sale_1215,b.sale_1518,b.sale_1821,b.sale_2124,b.cnt_12m,b.sale_12m,b.cnt_6m,b.sale_6m,b.cnt_3m,b.sale_3m,b.cnt_1m,b.sale_1m,b.cnt_new,b.sale_new\n  ,a.term_month, a.term_1_under, a.term_1_2, a.term_2_3, a.term_3_4, a.term_4_5, a.term_5_over,a.area1_nm,a.area1_ratio,a.area2_nm,a.area2_ratio,a.area3_nm,a.area3_ratio,a.area4_nm,a.area4_ratio,a.area5_nm,a.area5_ratio,a.area6_nm,a.area6_ratio,a.area7_nm,a.area7_ratio,a.area8_nm,a.area8_ratio,a.area9_nm,a.area9_ratio,a.area10_nm,a.area10_ratio\nfrom m_target a\n  left join m_value b\n  on a.yyyymm = b.yyyymm and a.upjong_nm = b.upjong_nm\norder by upjong_nm\n\"\"\").createOrReplaceTempView(\"modify_after\")",
			"metadata": {
				"trusted": true,
				"tags": []
			},
			"execution_count": 9,
			"outputs": [
				{
					"name": "stdout",
					"text": "\n",
					"output_type": "stream"
				}
			]
		},
		{
			"cell_type": "code",
			"source": "%%sql\nselect count(1) from modify_after",
			"metadata": {
				"trusted": true,
				"tags": []
			},
			"execution_count": 10,
			"outputs": [
				{
					"name": "stdout",
					"text": "+--------+\n|count(1)|\n+--------+\n|    2476|\n+--------+\n",
					"output_type": "stream"
				}
			]
		},
		{
			"cell_type": "markdown",
			"source": "## union_hospital",
			"metadata": {}
		},
		{
			"cell_type": "code",
			"source": "#보정대상 아닌 값\nspark.sql(\"\"\"\nselect * from h_rank\nwhere (upjong_nm = '가정의학과' or upjong_nm = '신경과' or upjong_nm = '정신건강의학과' or upjong_nm = '이비인후과')\nand gubun_amt != 'low3p_amt'\n\nunion\n\nselect * from h_rank\nwhere (upjong_nm = '내과' or upjong_nm = '정형외과')\nand !(gubun_amt = 'low3p_amt' or gubun_amt = 'low5p_amt')\n\nunion\n\nselect * from h_rank\nwhere (upjong_nm = '마취통증의학과' or upjong_nm = '성형외과' or upjong_nm = '신경외과' or upjong_nm = '외과'  or upjong_nm = '재활의학과')\nand !(gubun_amt = 'low3p_amt' or gubun_amt = 'low5p_amt' or gubun_amt = 'low7p_amt')\n\nunion\n\nselect * from h_rank\nwhere (upjong_nm = '비뇨기과' or upjong_nm = '산부인과' or upjong_nm = '소아과' or upjong_nm = '안과의원' or upjong_nm = '일반의원'  or upjong_nm = '피부과')\nand !(gubun_amt = 'low3p_amt' or gubun_amt = 'low5p_amt' or gubun_amt = 'low7p_amt' or gubun_amt = 'low10p_amt')\n\"\"\").createOrReplaceTempView(\"normal\")\n\n#보정완료 데이터 + 보정대상 아닌 데이터 union\nspark.sql(\"\"\"\nselect yyyymm,key,mega_cd,cty_cd,admi_cd,blk_cd_v3,upjong_nm,name as store_nm,addr,per_rnk_amt,gubun_amt,sale_cnt,sale_amt,cnt_m_20under,cnt_m_2024,cnt_m_2529,cnt_m_3034,cnt_m_3539,cnt_m_4044,cnt_m_4549,cnt_m_5054,cnt_m_5559,cnt_m_6064,cnt_m_6569,cnt_m_70over,cnt_w_20under,cnt_w_2024,cnt_w_2529,cnt_w_3034,cnt_w_3539,cnt_w_4044,cnt_w_4549,cnt_w_5054,cnt_w_5559,cnt_w_6064,cnt_w_6569,cnt_w_70over,sale_m_20under,sale_m_2024,sale_m_2529,sale_m_3034,sale_m_3539,sale_m_4044,sale_m_4549,sale_m_5054,sale_m_5559,sale_m_6064,sale_m_6569,sale_m_70over,sale_w_20under,sale_w_2024,sale_w_2529,sale_w_3034,sale_w_3539,sale_w_4044,sale_w_4549,sale_w_5054,sale_w_5559,sale_w_6064,sale_w_6569,sale_w_70over,cnt_mon,cnt_tue,cnt_wed,cnt_thu,cnt_fri,cnt_sat,cnt_sun,sale_mon,sale_tue,sale_wed,sale_thu,sale_fri,sale_sat,sale_sun,cnt_0003,cnt_0306,cnt_0609,cnt_0912,cnt_1215,cnt_1518,cnt_1821,cnt_2124,sale_0003,sale_0306,sale_0609,sale_0912,sale_1215,sale_1518,sale_1821,sale_2124,cnt_12m,sale_12m,cnt_6m,sale_6m,cnt_3m,sale_3m,cnt_1m,sale_1m,cnt_new,sale_new,term_month,term_1_under,term_1_2,term_2_3,term_3_4,term_4_5,term_5_over,area1_nm,area1_ratio,area2_nm,area2_ratio,area3_nm,area3_ratio,area4_nm,area4_ratio,area5_nm,area5_ratio,area6_nm,area6_ratio,area7_nm,area7_ratio,area8_nm,area8_ratio,area9_nm,area9_ratio,area10_nm,area10_ratio\nfrom normal\n\nunion\n\nselect *\nfrom modify_after\n\"\"\").createOrReplaceTempView(\"all\")\n\n\n#업종코드 붙이기\nspark.sql(\"\"\"\nselect\n  case\n    when upjong_nm = \"가정의학과\" then \"S03010\"\n    when upjong_nm = \"내과\" then \"S03001\"\n    when upjong_nm = \"마취통증의학과\" then \"S04006\"\n    when upjong_nm = \"비뇨기과\" then \"S03002\"\n    when upjong_nm = \"산부인과\" then \"S03003\"\n    when upjong_nm = \"성형외과\" then \"S04002\"\n    when upjong_nm = \"소아과\" then \"S03004\"\n    when upjong_nm = \"신경과\" then \"S04007\"\n    when upjong_nm = \"신경외과\" then \"S04008\"\n    when upjong_nm = \"안과의원\" then \"S04001\"\n    when upjong_nm = \"외과\" then \"S03011\"\n    when upjong_nm = \"이비인후과\" then \"S03005\"\n    when upjong_nm = \"일반의원\" then \"S03009\"\n    when upjong_nm = \"재활의학과\" then \"S04010\"\n    when upjong_nm = \"정신건강의학과\" then \"S04011\"\n    when upjong_nm = \"정형외과\" then \"S03008\"\n    when upjong_nm = \"피부과\" then \"S04004\"\n  end as upjong_cd\n, *\nfrom all\n\"\"\").createOrReplaceTempView(\"all_cd\")",
			"metadata": {
				"trusted": true,
				"tags": []
			},
			"execution_count": 11,
			"outputs": [
				{
					"name": "stdout",
					"text": "\n",
					"output_type": "stream"
				}
			]
		},
		{
			"cell_type": "code",
			"source": "%%sql\nselect count(1) from all_cd",
			"metadata": {
				"trusted": true,
				"tags": []
			},
			"execution_count": 12,
			"outputs": [
				{
					"name": "stdout",
					"text": "+--------+\n|count(1)|\n+--------+\n|   34349|\n+--------+\n",
					"output_type": "stream"
				}
			]
		},
		{
			"cell_type": "markdown",
			"source": "## multiplication\n- 가중치 테이블을 만들어서 기존에 19번의 for 구분을 효율적으로 튜닝 최소 5배 이상 속도 개선 가능",
			"metadata": {}
		},
		{
			"cell_type": "code",
			"source": "import pandas as pd\n\nmultiple_idx = [2.37, 2.88, 1.48, 1.89, 1.71, 1.39, 3.06, 2.02, 1.43, 2.18, 1.53, 3.76, 2.47, 1.10, 3.74, 1.37, 1.01]\n\nupjong_arr = [\"S03010\",\"S03001\",\"S04006\",\"S03002\",\"S03003\",\"S04002\",\"S03004\",\"S04007\",\"S04008\",\"S04001\",\"S03011\",\"S03005\",\"S03009\",\"S04010\",\"S04011\",\"S03008\",\"S04004\"]\n\n# 가중치 테이블 생성\nhospital_weight_table = pd.DataFrame({\n    'multi_value': multiple_idx,\n    'upjong_cd': upjong_arr\n})\n\nspark.createDataFrame(hospital_weight_table).createOrReplaceTempView(\"hospital_weight_table\")\n    \n    ",
			"metadata": {
				"trusted": true,
				"tags": []
			},
			"execution_count": 13,
			"outputs": [
				{
					"name": "stdout",
					"text": "\n",
					"output_type": "stream"
				}
			]
		},
		{
			"cell_type": "code",
			"source": "%%sql\n\nselect count(1) from hospital_weight_table",
			"metadata": {
				"trusted": true,
				"tags": []
			},
			"execution_count": 14,
			"outputs": [
				{
					"name": "stdout",
					"text": "+--------+\n|count(1)|\n+--------+\n|      17|\n+--------+\n",
					"output_type": "stream"
				}
			]
		},
		{
			"cell_type": "code",
			"source": "spark.sql(\"\"\"\nselect store_nm,key, a.upjong_cd, addr, yyyymm, mega_cd,cty_cd, admi_cd, blk_cd_v3\n\n, cast((sale_cnt * multi_value) as decimal(20,0)) as sale_cnt, cast(sale_amt*multi_value as decimal(20,0)) as sale_amt\n\n, cast(bigint(cnt_m_20under) * multi_value as decimal(20,0)) as cnt_m_20under, cast(bigint(cnt_m_2024)*multi_value as decimal(20,0)) as cnt_m_2024\n, cast(bigint(cnt_m_2529)*multi_value as decimal(20,0)) as cnt_m_2529, cast(bigint(cnt_m_3034)*multi_value as decimal(20,0)) as cnt_m_3034\n, cast(bigint(cnt_m_3539)*multi_value as decimal(20,0)) as cnt_m_3539, cast(bigint(cnt_m_4044)*multi_value as decimal(20,0)) as cnt_m_4044\n, cast(bigint(cnt_m_4549)*multi_value as decimal(20,0)) as cnt_m_4549, cast(bigint(cnt_m_5054)*multi_value as decimal(20,0)) as cnt_m_5054\n, cast(bigint(cnt_m_5559)*multi_value as decimal(20,0)) as cnt_m_5559, cast(bigint(cnt_m_6064)*multi_value as decimal(20,0)) as cnt_m_6064\n, cast(bigint(cnt_m_6569)*multi_value as decimal(20,0)) as cnt_m_6569, cast(bigint(cnt_m_70over)*multi_value as decimal(20,0)) as cnt_m_70over\n, cast(bigint(cnt_w_20under)*multi_value as decimal(20,0)) as cnt_w_20under, cast(bigint(cnt_w_2024)*multi_value as decimal(20,0)) as cnt_w_2024\n, cast(bigint(cnt_w_2529)*multi_value as decimal(20,0)) as cnt_w_2529, cast(bigint(cnt_w_3034)*multi_value as decimal(20,0)) as cnt_w_3034\n, cast(bigint(cnt_w_3539)*multi_value as decimal(20,0)) as cnt_w_3539, cast(bigint(cnt_w_4044)*multi_value as decimal(20,0)) as cnt_w_4044\n, cast(bigint(cnt_w_4549)*multi_value as decimal(20,0)) as cnt_w_4549, cast(bigint(cnt_w_5054)*multi_value as decimal(20,0)) as cnt_w_5054\n, cast(bigint(cnt_w_5559)*multi_value as decimal(20,0)) as cnt_w_5559, cast(bigint(cnt_w_6064)*multi_value as decimal(20,0)) as cnt_w_6064\n, cast(bigint(cnt_w_6569)*multi_value as decimal(20,0)) as cnt_w_6569, cast(bigint(cnt_w_70over)*multi_value as decimal(20,0)) as cnt_w_70over\n\n, cast(bigint(sale_m_20under)*multi_value as decimal(20,0)) as sale_m_20under, cast(bigint(sale_m_2024)*multi_value as decimal(20,0)) as sale_m_2024\n, cast(bigint(sale_m_2529)*multi_value as decimal(20,0)) as sale_m_2529, cast(bigint(sale_m_3034)*multi_value as decimal(20,0)) as sale_m_3034\n, cast(bigint(sale_m_3539)*multi_value as decimal(20,0)) as sale_m_3539, cast(bigint(sale_m_4044)*multi_value as decimal(20,0)) as sale_m_4044\n, cast(bigint(sale_m_4549)*multi_value as decimal(20,0)) as sale_m_4549, cast(bigint(sale_m_5054)*multi_value as decimal(20,0)) as sale_m_5054\n, cast(bigint(sale_m_5559)*multi_value as decimal(20,0)) as sale_m_5559, cast(bigint(sale_m_6064)*multi_value as decimal(20,0)) as sale_m_6064\n, cast(bigint(sale_m_6569)*multi_value as decimal(20,0)) as sale_m_6569, cast(bigint(sale_m_70over)*multi_value as decimal(20,0)) as sale_m_70over\n, cast(bigint(sale_w_20under)*multi_value as decimal(20,0)) as sale_w_20under, cast(bigint(sale_w_2024)*multi_value as decimal(20,0)) as sale_w_2024\n, cast(bigint(sale_w_2529)*multi_value as decimal(20,0)) as sale_w_2529, cast(bigint(sale_w_3034)*multi_value as decimal(20,0)) as sale_w_3034\n, cast(bigint(sale_w_3539)*multi_value as decimal(20,0)) as sale_w_3539, cast(bigint(sale_w_4044)*multi_value as decimal(20,0)) as sale_w_4044\n, cast(bigint(sale_w_4549)*multi_value as decimal(20,0)) as sale_w_4549, cast(bigint(sale_w_5054)*multi_value as decimal(20,0)) as sale_w_5054\n, cast(bigint(sale_w_5559)*multi_value as decimal(20,0)) as sale_w_5559, cast(bigint(sale_w_6064)*multi_value as decimal(20,0)) as sale_w_6064\n, cast(bigint(sale_w_6569)*multi_value as decimal(20,0)) as sale_w_6569, cast(bigint(sale_w_70over)*multi_value as decimal(20,0)) as sale_w_70over\n\n, cast(cnt_mon*multi_value as decimal(20,0)) as cnt_mon, cast(cnt_tue*multi_value as decimal(20,0)) as cnt_tue\n, cast(cnt_wed*multi_value as decimal(20,0)) as cnt_wed, cast(cnt_thu*multi_value as decimal(20,0)) as cnt_thu\n, cast(cnt_fri*multi_value as decimal(20,0)) as cnt_fri, cast(cnt_sat*multi_value as decimal(20,0)) as cnt_sat\n, cast(cnt_sun*multi_value as decimal(20,0)) as cnt_sun, cast(sale_mon*multi_value as decimal(20,0)) as sale_mon\n, cast(sale_tue*multi_value as decimal(20,0)) as sale_tue, cast(sale_wed*multi_value as decimal(20,0)) as sale_wed\n, cast(sale_thu*multi_value as decimal(20,0)) as sale_thu, cast(sale_fri*multi_value as decimal(20,0)) as sale_fri\n, cast(sale_sat*multi_value as decimal(20,0)) as sale_sat, cast(sale_sun*multi_value as decimal(20,0)) as sale_sun\n\n, cast(cnt_0003*multi_value as decimal(20,0)) as cnt_0003, cast(cnt_0306*multi_value as decimal(20,0)) as cnt_0306\n, cast(cnt_0609*multi_value as decimal(20,0)) as cnt_0609, cast(cnt_0912*multi_value as decimal(20,0)) as cnt_0912\n, cast(cnt_1215*multi_value as decimal(20,0)) as cnt_1215, cast(cnt_1518*multi_value as decimal(20,0)) as cnt_1518\n, cast(cnt_1821*multi_value as decimal(20,0)) as cnt_1821, cast(cnt_2124*multi_value as decimal(20,0)) as cnt_2124\n, cast(sale_0003*multi_value as decimal(20,0)) as sale_0003, cast(sale_0306*multi_value as decimal(20,0)) as sale_0306\n, cast(sale_0609*multi_value as decimal(20,0)) as sale_0609, cast(sale_0912*multi_value as decimal(20,0)) as sale_0912\n, cast(sale_1215*multi_value as decimal(20,0)) as sale_1215, cast(sale_1518*multi_value as decimal(20,0)) as sale_1518\n, cast(sale_1821*multi_value as decimal(20,0)) as sale_1821, cast(sale_2124*multi_value as decimal(20,0)) as sale_2124\n\n, cast(cnt_12m*multi_value as decimal(20,0)) as cnt_12m, cast(sale_12m*multi_value as decimal(20,0)) as sale_12m\n, cast(cnt_6m*multi_value as decimal(20,0)) as cnt_6m, cast(sale_6m*multi_value as decimal(20,0)) as sale_6m\n, cast(cnt_3m*multi_value as decimal(20,0)) as cnt_3m, cast(sale_3m*multi_value as decimal(20,0)) as sale_3m\n, cast(cnt_1m*multi_value as decimal(20,0)) as cnt_1m, cast(sale_1m*multi_value as decimal(20,0)) as sale_1m\n, cast(cnt_new*multi_value as decimal(20,0)) as cnt_new, cast(sale_new*multi_value as decimal(20,0)) as sale_new\n\n, term_month, term_1_under, term_1_2, term_2_3, term_3_4, term_4_5, term_5_over\n\n, area1_nm, area1_ratio, area2_nm, area2_ratio, area3_nm, area3_ratio, area4_nm, area4_ratio, area5_nm, area5_ratio\n, area6_nm, area6_ratio, area7_nm, area7_ratio, area8_nm, area8_ratio, area9_nm, area9_ratio, area10_nm, area10_ratio\nfrom hospital_weight_table a\nleft outer join all_cd b\nwhere a.upjong_cd = b.upjong_cd\n\"\"\").createOrReplaceTempView(\"hospital_final\")\n",
			"metadata": {
				"trusted": true,
				"tags": []
			},
			"execution_count": 15,
			"outputs": [
				{
					"name": "stdout",
					"text": "\n",
					"output_type": "stream"
				}
			]
		},
		{
			"cell_type": "code",
			"source": "%%sql\nselect count(1) from hospital_final",
			"metadata": {
				"trusted": true,
				"tags": []
			},
			"execution_count": 16,
			"outputs": [
				{
					"name": "stdout",
					"text": "+--------+\n|count(1)|\n+--------+\n|   34349|\n+--------+\n",
					"output_type": "stream"
				}
			]
		},
		{
			"cell_type": "markdown",
			"source": "## 약국데이터 - prep_pharmacy",
			"metadata": {}
		},
		{
			"cell_type": "code",
			"source": "#하위 5% 구분\nspark.sql(\"\"\"\nwith data1 as (\n  select *\n  from raw_all where upjong_nm = \"약국\"\n), data2 as (\n  select *\n    , percent_rank() over(partition by yyyymm order by sale_amt*1 desc) per_rnk_amt\n  from data1\n), data3 as (\n  select *\n    , case\n        when per_rnk_amt >= 0.95 then 'low5p_amt'\n        else '100'\n      end gubun_amt\n  from data2\n)\nselect *\nfrom data3\norder by sale_amt asc\n\"\"\").createOrReplaceTempView(\"drg_rank\")\n\n#보정대상 추출\nspark.sql(\"\"\"\nselect *\nfrom drg_rank\nwhere gubun_amt = \"low5p_amt\"\n\"\"\").createOrReplaceTempView(\"pharmacy_m_target\")\n\n# .write\n# .mode(\"overwrite\")\n# .parquet(\"/tmp/KB_MEDI/\"+ yyyymm +\"/PHARMACY/modify_target\")\n\n#보정값 추출\nspark.sql(\"\"\"\nwith min_value as (\n  select yyyymm, gubun_amt, min(double(sale_amt)) as sale_min\n  from drg_rank\n  where gubun_amt = \"100\"\n  group by yyyymm,gubun_amt\n  order by yyyymm,gubun_amt\n)\nselect *\nfrom raw_all\nwhere sale_amt = (select sale_min from min_value)\n\"\"\").createOrReplaceTempView(\"pharmacy_m_value\")\n# .write\n# .mode(\"overwrite\")\n# .parquet(\"/tmp/KB_MEDI/\"+ yyyymm +\"/PHARMACY/m_value\")\n\n# spark.read\n# .parquet(\"/tmp/KB_MEDI/\"+ yyyymm +\"/PHARMACY/modify_target\")\n# .createOrReplaceTempView(\"target\")\n\n# spark.read\n# .parquet(\"/tmp/KB_MEDI/\"+ yyyymm +\"/PHARMACY/m_value\")\n# .createOrReplaceTempView(\"m_value\")\n\n# 보정대상 보정값 붙이기\nspark.sql(\"\"\"\nselect a.yyyymm, a.key, a.mega_cd, a.cty_cd, a.admi_cd, a.blk_cd_v3,a.upjong_nm, a.name as store_nm, a.addr, a.per_rnk_amt, a.gubun_amt\n  ,b.sale_cnt,b.sale_amt,b.cnt_m_20under,b.cnt_m_2024,b.cnt_m_2529,b.cnt_m_3034,b.cnt_m_3539,b.cnt_m_4044,b.cnt_m_4549,b.cnt_m_5054,b.cnt_m_5559,b.cnt_m_6064,b.cnt_m_6569,b.cnt_m_70over,b.cnt_w_20under,b.cnt_w_2024,b.cnt_w_2529,b.cnt_w_3034,b.cnt_w_3539,b.cnt_w_4044,b.cnt_w_4549,b.cnt_w_5054,b.cnt_w_5559,b.cnt_w_6064,b.cnt_w_6569,b.cnt_w_70over,b.sale_m_20under,b.sale_m_2024,b.sale_m_2529,b.sale_m_3034,b.sale_m_3539,b.sale_m_4044,b.sale_m_4549,b.sale_m_5054,b.sale_m_5559,b.sale_m_6064,b.sale_m_6569,b.sale_m_70over,b.sale_w_20under,b.sale_w_2024,b.sale_w_2529,b.sale_w_3034,b.sale_w_3539,b.sale_w_4044,b.sale_w_4549,b.sale_w_5054,b.sale_w_5559,b.sale_w_6064,b.sale_w_6569,b.sale_w_70over,b.cnt_mon,b.cnt_tue,b.cnt_wed,b.cnt_thu,b.cnt_fri,b.cnt_sat,b.cnt_sun,b.sale_mon,b.sale_tue,b.sale_wed,b.sale_thu,b.sale_fri,b.sale_sat,b.sale_sun,b.cnt_0003,b.cnt_0306,b.cnt_0609,b.cnt_0912,b.cnt_1215,b.cnt_1518,b.cnt_1821,b.cnt_2124,b.sale_0003,b.sale_0306,b.sale_0609,b.sale_0912,b.sale_1215,b.sale_1518,b.sale_1821,b.sale_2124,b.cnt_12m,b.sale_12m,b.cnt_6m,b.sale_6m,b.cnt_3m,b.sale_3m,b.cnt_1m,b.sale_1m,b.cnt_new,b.sale_new\n  ,a.term_month, a.term_1_under, a.term_1_2, a.term_2_3, a.term_3_4, a.term_4_5, a.term_5_over,a.area1_nm,a.area1_ratio,a.area2_nm,a.area2_ratio,a.area3_nm,a.area3_ratio,a.area4_nm,a.area4_ratio,a.area5_nm,a.area5_ratio,a.area6_nm,a.area6_ratio,a.area7_nm,a.area7_ratio,a.area8_nm,a.area8_ratio,a.area9_nm,a.area9_ratio,a.area10_nm,a.area10_ratio\nfrom pharmacy_m_target a\n  left join pharmacy_m_value b\n  on a.yyyymm = b.yyyymm\n\"\"\").createOrReplaceTempView(\"pharmacy_modify_after\")\n\n# 보정대상 + 보정비대상\nspark.sql(\"\"\"\nselect yyyymm, key,blk_cd_v3, mega_cd, cty_cd, admi_cd, \"S02004\" as upjong3_cd,upjong_nm as upjong3_nm, name as store_nm, addr, per_rnk_amt, gubun_amt,\n  sale_cnt, sale_amt, cnt_m_20under, cnt_m_2024, cnt_m_2529, cnt_m_3034, cnt_m_3539, cnt_m_4044, cnt_m_4549, cnt_m_5054, cnt_m_5559, cnt_m_6064, cnt_m_6569, cnt_m_70over, cnt_w_20under, cnt_w_2024, cnt_w_2529, cnt_w_3034, cnt_w_3539, cnt_w_4044, cnt_w_4549, cnt_w_5054, cnt_w_5559, cnt_w_6064, cnt_w_6569, cnt_w_70over, sale_m_20under, sale_m_2024, sale_m_2529, sale_m_3034, sale_m_3539, sale_m_4044, sale_m_4549, sale_m_5054, sale_m_5559, sale_m_6064, sale_m_6569, sale_m_70over, sale_w_20under, sale_w_2024, sale_w_2529, sale_w_3034, sale_w_3539, sale_w_4044, sale_w_4549, sale_w_5054, sale_w_5559, sale_w_6064, sale_w_6569, sale_w_70over, cnt_mon, cnt_tue, cnt_wed, cnt_thu, cnt_fri, cnt_sat, cnt_sun, sale_mon, sale_tue, sale_wed, sale_thu, sale_fri, sale_sat, sale_sun, cnt_0003, cnt_0306, cnt_0609, cnt_0912, cnt_1215, cnt_1518, cnt_1821, cnt_2124, sale_0003, sale_0306, sale_0609, sale_0912, sale_1215, sale_1518, sale_1821, sale_2124, cnt_12m, sale_12m, cnt_6m, sale_6m, cnt_3m, sale_3m, cnt_1m, sale_1m, cnt_new, sale_new, term_month, term_1_under, term_1_2, term_2_3, term_3_4, term_4_5, term_5_over, area1_nm, area1_ratio, area2_nm, area2_ratio, area3_nm, area3_ratio, area4_nm, area4_ratio, area5_nm, area5_ratio, area6_nm, area6_ratio, area7_nm, area7_ratio, area8_nm, area8_ratio, area9_nm, area9_ratio, area10_nm, area10_ratio\nfrom drg_rank\nwhere gubun_amt != \"low5p_amt\"\n\nunion\n\nselect yyyymm, key,blk_cd_v3, mega_cd, cty_cd, admi_cd, \"S02004\" as upjong3_cd,upjong_nm as upjong3_nm, store_nm, addr, per_rnk_amt, gubun_amt,\n  sale_cnt, sale_amt, cnt_m_20under, cnt_m_2024, cnt_m_2529, cnt_m_3034, cnt_m_3539, cnt_m_4044, cnt_m_4549, cnt_m_5054, cnt_m_5559, cnt_m_6064, cnt_m_6569, cnt_m_70over, cnt_w_20under, cnt_w_2024, cnt_w_2529, cnt_w_3034, cnt_w_3539, cnt_w_4044, cnt_w_4549, cnt_w_5054, cnt_w_5559, cnt_w_6064, cnt_w_6569, cnt_w_70over, sale_m_20under, sale_m_2024, sale_m_2529, sale_m_3034, sale_m_3539, sale_m_4044, sale_m_4549, sale_m_5054, sale_m_5559, sale_m_6064, sale_m_6569, sale_m_70over, sale_w_20under, sale_w_2024, sale_w_2529, sale_w_3034, sale_w_3539, sale_w_4044, sale_w_4549, sale_w_5054, sale_w_5559, sale_w_6064, sale_w_6569, sale_w_70over, cnt_mon, cnt_tue, cnt_wed, cnt_thu, cnt_fri, cnt_sat, cnt_sun, sale_mon, sale_tue, sale_wed, sale_thu, sale_fri, sale_sat, sale_sun, cnt_0003, cnt_0306, cnt_0609, cnt_0912, cnt_1215, cnt_1518, cnt_1821, cnt_2124, sale_0003, sale_0306, sale_0609, sale_0912, sale_1215, sale_1518, sale_1821, sale_2124, cnt_12m, sale_12m, cnt_6m, sale_6m, cnt_3m, sale_3m, cnt_1m, sale_1m, cnt_new, sale_new, term_month, term_1_under, term_1_2, term_2_3, term_3_4, term_4_5, term_5_over, area1_nm, area1_ratio, area2_nm, area2_ratio, area3_nm, area3_ratio, area4_nm, area4_ratio, area5_nm, area5_ratio, area6_nm, area6_ratio, area7_nm, area7_ratio, area8_nm, area8_ratio, area9_nm, area9_ratio, area10_nm, area10_ratio\nfrom pharmacy_modify_after\n\"\"\").createOrReplaceTempView(\"pharmacy_prep_data\")\n\n# .write\n# .mode(\"overwrite\")\n# .parquet(\"/tmp/KB_MEDI/\"+ yyyymm +\"/PHARMACY/union_all\")",
			"metadata": {
				"trusted": true,
				"tags": []
			},
			"execution_count": 17,
			"outputs": [
				{
					"name": "stdout",
					"text": "\n",
					"output_type": "stream"
				}
			]
		},
		{
			"cell_type": "code",
			"source": "%%sql\n\nselect count(1) from pharmacy_prep_data",
			"metadata": {
				"trusted": true,
				"tags": []
			},
			"execution_count": 18,
			"outputs": [
				{
					"name": "stdout",
					"text": "+--------+\n|count(1)|\n+--------+\n|   23475|\n+--------+\n",
					"output_type": "stream"
				}
			]
		},
		{
			"cell_type": "markdown",
			"source": "## multiplication_p\n- 가중치 테이블을 만들어서 기존에 229번의 for 구분을 효율적으로 튜닝 최소 20배 이상 속도 개선 가능",
			"metadata": {}
		},
		{
			"cell_type": "code",
			"source": "import pandas as pd\n\nsale_idx = [0.342957262, 0.33769736, 0.392112409, 0.331816916, 0.44000807, 0.405501254, 0.310310828, 0.329176474, 0.325888702, 0.443308983\n, 0.391407639, 0.313328055, 0.363644866, 0.330054365, 0.349425543, 0.401383614, 0.368991603, 0.347446809, 0.444336123, 0.399500802\n, 0.324715964, 0.32232946, 0.336662014, 0.349311047, 0.373218914, 0.617156638, 0.580234197, 0.608281193, 0.58057875, 0.547266106, 0.559762055\n, 0.631231039, 0.59437928, 0.579746279, 0.543699053, 0.642341014, 0.615680106, 0.599263974, 0.598280667, 0.644957047, 0.587432689, 0.781296962\n, 0.742444559, 0.936022693, 0.926941533, 0.82699464, 0.7296425, 0.771034352, 0.704021702, 0.786690369, 0.676845447, 0.696612063, 0.73466872\n, 0.791535665, 0.714915063, 0.674788225, 0.75056331, 1.079956261, 1, 0.595352996, 0.519059377, 0.557947106, 0.476209184, 0.526585201, 0.550772684\n, 0.555671735, 0.478793273, 0.455975486, 0.62021103, 0.702183373, 0.635176255, 0.695970464, 0.687879646, 0.715739866, 0.538626048, 0.452880173\n, 0.389854342, 0.409863114, 0.417108425, 0.388588624, 0.362592235, 0.571488541, 0.455660962, 0.478791411, 0.371612043, 0.515842394, 0.386079382\n, 0.410846987, 0.549458487, 0.441620074, 0.443104597, 0.419963057, 0.427546278, 0.435324387, 0.4695268, 0.804417091, 0.697196394, 0.436262868\n, 0.519048948, 0.542711634, 0.428270142, 0.529922917, 0.620225085, 0.515102092, 0.656753889, 0.598641565, 1.036674735, 1.220990358, 1.166556516\n, 1.941908369, 1.212489448, 2.979132192, 0.825139037, 2.624693918, 1.49629262, 0.69036742, 2.162681086, 1.001248664, 0.86514477, 0.956003069\n, 1.107358832, 1.257195787, 1.215032161, 0.556771619, 1.208502544, 2.138559357, 1.541000436, 2.006559698, 1.671070415, 0.944441866, 1.163991544\n, 1.514366186, 0.915525538, 0.645662171, 0.70146817, 0.842831262, 0.796890766, 1.034903086, 1.541749257, 1.796422963, 1.507036769, 1.831525989\n, 0.826542423, 1.195957481, 1.594289686, 1.023726381, 2.464821726, 0.788801278, 1.32167246, 2.410195415, 1.371875738, 1.153179586, 1.710814708\n, 1.214340239, 2.225505251, 0.635600753, 0.879321602, 0.930752587, 0.854845877, 0.692509668, 0.871783595, 0.585880692, 1.065157327, 0.855350397\n, 0.688835258, 0.777387593, 1.338439164, 1.208267712, 1.21471885, 1.720626702, 1.233413266, 1.458855938, 0.700874031, 0.643407267, 1.640012992\n, 0.863733419, 0.831932635, 0.701702676, 0.783446809, 0.586906039, 0.827146077, 0.592527177, 0.971358112, 0.518742637, 0.667061568, 1.901877261\n, 1.402857098, 1.511740127, 1.612162345, 1.328942606, 1.565634547, 1.537266706, 1.741491456, 0.841120045, 1.650068681, 1.115275674, 1.099719976\n, 0.898697987, 0.841915318, 1.037662785, 0.625588417, 1.231085614, 0.772550908, 0.786847432, 0.894128033, 1.104397535, 1.749400179, 1.457758429\n, 1.761830301, 0.862827722, 1.148645285, 0.96570122, 0.773521066, 1.23314926, 1.039486799, 0.762659236, 0.907463348, 1.109482714, 1.002944577\n, 1.166218141, 1.749750043, 0.94528374, 0.98426932, 2.958846624, 1.802792186, 1.465618606, 2.036002216, 1.673775725, 1.244220894 ]\n\ncnt_idx = [0.304575942, 0.301845579, 0.379165271, 0.300454078, 0.432022941, 0.36602906, 0.313041832, 0.33960164, 0.269313451, 0.217589577, 0.468834026, 0.379522916, 0.351861997, 0.327832394, 0.323045752, 0.252738654, 0.374100719, 0.341401459, 0.423335859, 0.361532239, 0.296959022, 0.303032687, 0.295800724, 0.327055974, 0.343336652, 0.570029709, 0.563661946, 0.577897838\n, 0.572584311, 0.525519001, 0.533790569, 0.590594263, 0.558381547, 0.53420134, 0.512542909, 0.608295592, 0.539125718, 0.566859743, 0.575462974, 0.575873197, 0.557679217, 0.710840237, 0.67341591, 0.832831523, 0.806697225, 0.773428668, 0.68463243, 0.720038923, 0.630798941, 0.795057178, 0.691288863, 0.715936475, 0.718095408, 0.80230288, 0.718877593, 0.673720038\n, 0.739670231, 0.997081454, 1, 0.545414252, 0.49129079, 0.489680225, 0.468487143, 0.505176822, 0.50902578, 0.548999758, 0.432464846, 0.415481206, 0.570403159, 0.669054492, 0.581443581, 0.658565158, 0.627345794, 0.660739857, 0.505328759, 0.440339179, 0.413344724, 0.419736379, 0.410383058, 0.409856424, 0.374141107, 0.553840157, 0.470723247, 0.467411787, 0.396953754\n, 0.519005629, 0.422935738, 0.433125769, 0.515230983, 0.410648098, 0.482373331, 0.416680375, 0.406920369, 0.426931965, 0.455197314, 0.716246333, 0.636617636, 0.417638268, 0.487458829, 0.536331113, 0.452205836, 0.482928309, 0.582823605, 0.464116546, 0.597938144, 0.534415096, 0.959375674, 1.065965888, 1.061432429, 1.59137189, 1.246767751, 2.550706316, 0.729746003, 1.688879457\n, 1.330540616, 0.672384526, 1.504645137, 0.984153335, 0.800788479, 0.909122638, 1.02147569, 1.029520745, 1.062585478, 0.520802545, 1.033169705, 1.901860841, 1.392575784, 1.771766606, 1.43390772, 0.921844744, 1.075885784, 1.33684143, 0.764967867, 0.586341738, 0.639012433, 0.690737183, 0.703240508, 0.925799139, 1.18308732, 1.369168811, 1.307776091, 1.442427879, 0.740385651\n, 1.220591661, 1.28420191, 0.845894579, 1.461450053, 0.688252086, 1.170991824, 1.805212565, 1.098485083, 1.11996362, 1.277984666, 1.048081593, 1.929082628, 0.593622873, 0.829703795, 0.861616734, 0.729595532, 0.674086801, 0.77236261, 0.523676217, 0.897111453, 0.732929216, 0.619957374, 0.792788069, 0.928199272, 0.903666147, 1.029297761, 1.381956501, 1.00023015, 1.21477984\n, 0.700100691, 0.54926883, 1.235820896, 0.783072992, 0.604704463, 0.64102698, 0.662038588, 0.601766022, 0.734742018, 0.535663997, 0.879308304, 0.490052666, 0.650866829, 1.295778435, 1.2121942, 1.327197747, 1.29632335, 1.08218708, 1.226263313, 1.411775771, 1.498201073, 0.783987383, 1.327546089, 0.932554902, 0.939099567, 0.806052358, 0.776953643, 0.897912389, 0.614976454\n, 1.21713033, 0.697457692, 0.835846868, 0.77886919, 0.936846151, 1.467695158, 1.137215292, 1.406938776, 0.649439969, 0.856033119, 0.792152796, 0.693316469, 0.9791261, 0.77610173, 0.700514122, 0.774210968, 1.028407489, 0.926497602, 1.044529878, 1.52553472, 0.777403809, 0.947798652, 2.138056754, 1.629756306, 1.140028541, 1.754899627, 1.529364492, 0.997155812\n]\n\ncty_arr = [1111, 1114, 1117, 1120, 1121, 1123, 1126, 1129, 1130, 1132, 1135, 1138, 1141, 1144, 1147, 1150, 1153, 1154, 1156, 1159, 1162, 1165, 1168, 1171, 1174, 2611, 2614, 2617, 2620, 2623, 2626, 2629, 2632, 2635, 2638, 2641, 2644, 2647, 2650, 2653, 2671, 2711, 2714, 2717, 2720, 2723, 2726, 2729, 2771, 2811, 2814, 2817, 2818, 2820, 2823, 2824, 2826, 2871, 2872, 2911, 2914, 2915, 2917\n, 2920, 3011, 3014, 3017, 3020, 3023, 3111, 3114, 3117, 3120, 3171, 3611, 4111, 4113, 4115, 4117, 4119, 4121, 4122, 4125, 4127, 4128, 4129, 4131, 4136, 4137, 4139, 4141, 4143, 4145, 4146, 4148, 4150, 4155, 4157, 4159, 4161, 4163, 4165, 4167, 4180, 4182, 4183, 4311, 4313, 4315, 4372, 4373, 4374, 4375, 4376, 4377, 4378, 4380, 4413, 4415, 4418, 4420, 4421, 4423, 4425, 4427, 4471\n, 4476, 4477, 4479, 4480, 4481, 4482, 4611, 4613, 4615, 4617, 4623, 4671, 4672, 4673, 4677, 4678, 4679, 4680, 4681, 4682, 4683, 4684, 4686, 4687, 4688, 4689, 4690, 4691, 2772, 4711, 4713, 4715, 4717, 4719, 4721, 4723, 4725, 4728, 4729, 4773, 4775, 4776, 4777, 4782, 4783, 4784, 4785, 4790, 4792, 4793, 4794, 4812, 4817, 4822, 4824, 4825, 4827, 4831, 4833, 4872, 4873, 4874, 4882\n, 4884, 4885, 4886, 4887, 4888, 4889, 5011, 5013, 5111, 5113, 5115, 5117, 5119, 5121, 5123, 5172, 5173, 5175, 5176, 5177, 5178, 5179, 5180, 5181, 5182, 5183, 5211, 5213, 5214, 5218, 5219, 5221, 5271, 5272, 5273, 5274, 5275, 5277, 5279, 5280]\n\n# 가중치 테이블 생성\npharmacy_weight_table = pd.DataFrame({\n    'cty_cd': cty_arr,\n    'sale_multivalue': sale_idx,\n    'cnt_multivalue': cnt_idx\n})\n\nspark.createDataFrame(pharmacy_weight_table).createOrReplaceTempView(\"pharmacy_weight_table\")",
			"metadata": {
				"trusted": true,
				"tags": []
			},
			"execution_count": 19,
			"outputs": [
				{
					"name": "stdout",
					"text": "\n",
					"output_type": "stream"
				}
			]
		},
		{
			"cell_type": "code",
			"source": "%%sql\nselect * from pharmacy_weight_table",
			"metadata": {
				"trusted": true,
				"tags": []
			},
			"execution_count": 20,
			"outputs": [
				{
					"name": "stdout",
					"text": "+------+---------------+--------------+\n|cty_cd|sale_multivalue|cnt_multivalue|\n+------+---------------+--------------+\n|  1111|    0.342957262|   0.304575942|\n|  1114|     0.33769736|   0.301845579|\n|  1117|    0.392112409|   0.379165271|\n|  1120|    0.331816916|   0.300454078|\n|  1121|     0.44000807|   0.432022941|\n|  1123|    0.405501254|    0.36602906|\n|  1126|    0.310310828|   0.313041832|\n|  1129|    0.329176474|    0.33960164|\n|  1130|    0.325888702|   0.269313451|\n|  1132|    0.443308983|   0.217589577|\n|  1135|    0.391407639|   0.468834026|\n|  1138|    0.313328055|   0.379522916|\n|  1141|    0.363644866|   0.351861997|\n|  1144|    0.330054365|   0.327832394|\n|  1147|    0.349425543|   0.323045752|\n|  1150|    0.401383614|   0.252738654|\n|  1153|    0.368991603|   0.374100719|\n|  1154|    0.347446809|   0.341401459|\n|  1156|    0.444336123|   0.423335859|\n|  1159|    0.399500802|   0.361532239|\n+------+---------------+--------------+\nonly showing top 20 rows\n",
					"output_type": "stream"
				}
			]
		},
		{
			"cell_type": "code",
			"source": "spark.sql(\"\"\"\n  select store_nm,key, upjong3_cd, upjong3_nm, addr, yyyymm, mega_cd, a.cty_cd, admi_cd, blk_cd_v3\n\n    , cast((sale_cnt * cnt_multivalue) as decimal(20,0)) as sale_cnt, cast(sale_amt*sale_multivalue as decimal(20,0)) as sale_amt\n\n    , cast(bigint(cnt_m_20under) * cnt_multivalue as decimal(20,0)) as cnt_m_20under, cast(bigint(cnt_m_2024)*cnt_multivalue as decimal(20,0)) as cnt_m_2024\n    , cast(bigint(cnt_m_2529)*cnt_multivalue as decimal(20,0)) as cnt_m_2529, cast(bigint(cnt_m_3034)*cnt_multivalue as decimal(20,0)) as cnt_m_3034\n    , cast(bigint(cnt_m_3539)*cnt_multivalue as decimal(20,0)) as cnt_m_3539, cast(bigint(cnt_m_4044)*cnt_multivalue as decimal(20,0)) as cnt_m_4044\n    , cast(bigint(cnt_m_4549)*cnt_multivalue as decimal(20,0)) as cnt_m_4549, cast(bigint(cnt_m_5054)*cnt_multivalue as decimal(20,0)) as cnt_m_5054\n    , cast(bigint(cnt_m_5559)*cnt_multivalue as decimal(20,0)) as cnt_m_5559, cast(bigint(cnt_m_6064)*cnt_multivalue as decimal(20,0)) as cnt_m_6064\n    , cast(bigint(cnt_m_6569)*cnt_multivalue as decimal(20,0)) as cnt_m_6569, cast(bigint(cnt_m_70over)*cnt_multivalue as decimal(20,0)) as cnt_m_70over\n    , cast(bigint(cnt_w_20under)*cnt_multivalue as decimal(20,0)) as cnt_w_20under, cast(bigint(cnt_w_2024)*cnt_multivalue as decimal(20,0)) as cnt_w_2024\n    , cast(bigint(cnt_w_2529)*cnt_multivalue as decimal(20,0)) as cnt_w_2529, cast(bigint(cnt_w_3034)*cnt_multivalue as decimal(20,0)) as cnt_w_3034\n    , cast(bigint(cnt_w_3539)*cnt_multivalue as decimal(20,0)) as cnt_w_3539, cast(bigint(cnt_w_4044)*cnt_multivalue as decimal(20,0)) as cnt_w_4044\n    , cast(bigint(cnt_w_4549)*cnt_multivalue as decimal(20,0)) as cnt_w_4549, cast(bigint(cnt_w_5054)*cnt_multivalue as decimal(20,0)) as cnt_w_5054\n    , cast(bigint(cnt_w_5559)*cnt_multivalue as decimal(20,0)) as cnt_w_5559, cast(bigint(cnt_w_6064)*cnt_multivalue as decimal(20,0)) as cnt_w_6064\n    , cast(bigint(cnt_w_6569)*cnt_multivalue as decimal(20,0)) as cnt_w_6569, cast(bigint(cnt_w_70over)*cnt_multivalue as decimal(20,0)) as cnt_w_70over\n\n    , cast(bigint(sale_m_20under)*sale_multivalue as decimal(20,0)) as sale_m_20under, cast(bigint(sale_m_2024)*sale_multivalue as decimal(20,0)) as sale_m_2024\n    , cast(bigint(sale_m_2529)*sale_multivalue as decimal(20,0)) as sale_m_2529, cast(bigint(sale_m_3034)*sale_multivalue as decimal(20,0)) as sale_m_3034\n    , cast(bigint(sale_m_3539)*sale_multivalue as decimal(20,0)) as sale_m_3539, cast(bigint(sale_m_4044)*sale_multivalue as decimal(20,0)) as sale_m_4044\n    , cast(bigint(sale_m_4549)*sale_multivalue as decimal(20,0)) as sale_m_4549, cast(bigint(sale_m_5054)*sale_multivalue as decimal(20,0)) as sale_m_5054\n    , cast(bigint(sale_m_5559)*sale_multivalue as decimal(20,0)) as sale_m_5559, cast(bigint(sale_m_6064)*sale_multivalue as decimal(20,0)) as sale_m_6064\n    , cast(bigint(sale_m_6569)*sale_multivalue as decimal(20,0)) as sale_m_6569, cast(bigint(sale_m_70over)*sale_multivalue as decimal(20,0)) as sale_m_70over\n    , cast(bigint(sale_w_20under)*sale_multivalue as decimal(20,0)) as sale_w_20under, cast(bigint(sale_w_2024)*sale_multivalue as decimal(20,0)) as sale_w_2024\n    , cast(bigint(sale_w_2529)*sale_multivalue as decimal(20,0)) as sale_w_2529, cast(bigint(sale_w_3034)*sale_multivalue as decimal(20,0)) as sale_w_3034\n    , cast(bigint(sale_w_3539)*sale_multivalue as decimal(20,0)) as sale_w_3539, cast(bigint(sale_w_4044)*sale_multivalue as decimal(20,0)) as sale_w_4044\n    , cast(bigint(sale_w_4549)*sale_multivalue as decimal(20,0)) as sale_w_4549, cast(bigint(sale_w_5054)*sale_multivalue as decimal(20,0)) as sale_w_5054\n    , cast(bigint(sale_w_5559)*sale_multivalue as decimal(20,0)) as sale_w_5559, cast(bigint(sale_w_6064)*sale_multivalue as decimal(20,0)) as sale_w_6064\n    , cast(bigint(sale_w_6569)*sale_multivalue as decimal(20,0)) as sale_w_6569, cast(bigint(sale_w_70over)*sale_multivalue as decimal(20,0)) as sale_w_70over\n\n    , cast(cnt_mon*cnt_multivalue as decimal(20,0)) as cnt_mon, cast(cnt_tue*cnt_multivalue as decimal(20,0)) as cnt_tue\n    , cast(cnt_wed*cnt_multivalue as decimal(20,0)) as cnt_wed, cast(cnt_thu*cnt_multivalue as decimal(20,0)) as cnt_thu\n    , cast(cnt_fri*cnt_multivalue as decimal(20,0)) as cnt_fri, cast(cnt_sat*cnt_multivalue as decimal(20,0)) as cnt_sat\n    , cast(cnt_sun*cnt_multivalue as decimal(20,0)) as cnt_sun, cast(sale_mon*sale_multivalue as decimal(20,0)) as sale_mon\n    , cast(sale_tue*sale_multivalue as decimal(20,0)) as sale_tue, cast(sale_wed*sale_multivalue as decimal(20,0)) as sale_wed\n    , cast(sale_thu*sale_multivalue as decimal(20,0)) as sale_thu, cast(sale_fri*sale_multivalue as decimal(20,0)) as sale_fri\n    , cast(sale_sat*sale_multivalue as decimal(20,0)) as sale_sat, cast(sale_sun*sale_multivalue as decimal(20,0)) as sale_sun\n\n    , cast(cnt_0003*cnt_multivalue as decimal(20,0)) as cnt_0003, cast(cnt_0306*cnt_multivalue as decimal(20,0)) as cnt_0306\n    , cast(cnt_0609*cnt_multivalue as decimal(20,0)) as cnt_0609, cast(cnt_0912*cnt_multivalue as decimal(20,0)) as cnt_0912\n    , cast(cnt_1215*cnt_multivalue as decimal(20,0)) as cnt_1215, cast(cnt_1518*cnt_multivalue as decimal(20,0)) as cnt_1518\n    , cast(cnt_1821*cnt_multivalue as decimal(20,0)) as cnt_1821, cast(cnt_2124*cnt_multivalue as decimal(20,0)) as cnt_2124\n    , cast(sale_0003*sale_multivalue as decimal(20,0)) as sale_0003, cast(sale_0306*sale_multivalue as decimal(20,0)) as sale_0306\n    , cast(sale_0609*sale_multivalue as decimal(20,0)) as sale_0609, cast(sale_0912*sale_multivalue as decimal(20,0)) as sale_0912\n    , cast(sale_1215*sale_multivalue as decimal(20,0)) as sale_1215, cast(sale_1518*sale_multivalue as decimal(20,0)) as sale_1518\n    , cast(sale_1821*sale_multivalue as decimal(20,0)) as sale_1821, cast(sale_2124*sale_multivalue as decimal(20,0)) as sale_2124\n\n    , cast(cnt_12m*cnt_multivalue as decimal(20,0)) as cnt_12m, cast(sale_12m*sale_multivalue as decimal(20,0)) as sale_12m\n    , cast(cnt_6m*cnt_multivalue as decimal(20,0)) as cnt_6m, cast(sale_6m*sale_multivalue as decimal(20,0)) as sale_6m\n    , cast(cnt_3m*cnt_multivalue as decimal(20,0)) as cnt_3m, cast(sale_3m*sale_multivalue as decimal(20,0)) as sale_3m\n    , cast(cnt_1m*cnt_multivalue as decimal(20,0)) as cnt_1m, cast(sale_1m*sale_multivalue as decimal(20,0)) as sale_1m\n    , cast(cnt_new*cnt_multivalue as decimal(20,0)) as cnt_new, cast(sale_new*sale_multivalue as decimal(20,0)) as sale_new\n\n    , term_month, term_1_under, term_1_2, term_2_3, term_3_4, term_4_5, term_5_over\n\n    , area1_nm, area1_ratio, area2_nm, area2_ratio, area3_nm, area3_ratio, area4_nm, area4_ratio, area5_nm, area5_ratio\n    , area6_nm, area6_ratio, area7_nm, area7_ratio, area8_nm, area8_ratio, area9_nm, area9_ratio, area10_nm, area10_ratio\n  from pharmacy_weight_table a\n  left outer join pharmacy_prep_data b\n  where a.cty_cd = b.cty_cd\n\"\"\").createOrReplaceTempView(\"pharmacy_final\") \n\n# .coalesce(1)\n# .write\n# .mode(\"overwrite\")\n# .parquet(\"/tmp/KB_MEDI/\"+yyyymm+\"/PHARMACY/multiplication/T_\" + cty_cd)",
			"metadata": {
				"trusted": true,
				"tags": []
			},
			"execution_count": 22,
			"outputs": [
				{
					"name": "stdout",
					"text": "\n",
					"output_type": "stream"
				}
			]
		},
		{
			"cell_type": "code",
			"source": "%%sql\n\nselect count(1) from pharmacy_final",
			"metadata": {
				"trusted": true,
				"tags": []
			},
			"execution_count": 23,
			"outputs": [
				{
					"name": "stdout",
					"text": "+--------+\n|count(1)|\n+--------+\n|   23475|\n+--------+\n",
					"output_type": "stream"
				}
			]
		},
		{
			"cell_type": "markdown",
			"source": "## 치과데이터 추출 : prep_dentist\n",
			"metadata": {}
		},
		{
			"cell_type": "code",
			"source": "# <<< 이상치 제거를 위한 매출 등급 매기기 - 치과 이상치 추가 (2024.04.08) >>>\n\nspark.sql(\"\"\"\n-- 치과 선택\nwith data1 as (\n  select *\n  from raw_all\n  where upjong_nm = \"치과\"\n)\n, data2 as (\n  select *\n    , percent_rank() over(partition by upjong_nm, yyyymm order by sale_amt*1 desc) per_rnk_amt -- 매출rank별\n  from data1\n)\n, data3 as (\nselect *\n  , case\n      when per_rnk_amt <= 0.001 then 'high0.1p_amt' -- 상위 0.1%\n      when per_rnk_amt >= 0.90 then 'low10p_amt' -- 하위 10%\n      else '100'\n    end as gubun_amt\n  from data2\n)\nselect *\nfrom data3\n\"\"\").createOrReplaceTempView(\"tb_dentist\")\n\n# -- 상위 0.1%\nspark.sql(\"\"\"\nselect *\nfrom tb_dentist\nwhere 1=1\nand upjong_nm = \"치과\"\nand gubun_amt = 'high0.1p_amt'\n\"\"\").createOrReplaceTempView(\"tb_dentist_high\")\n\n# -- 하위 10% (2024.04.01 치과 추가)\nspark.sql(\"\"\"\nselect *\nfrom tb_dentist\nwhere gubun_amt = 'low10p_amt'\n\"\"\").createOrReplaceTempView(\"tb_dentist_low\")\n\nspark.sql(\"\"\"\nselect *\nfrom tb_dentist\nwhere gubun_amt = '100'\n\"\"\").createOrReplaceTempView(\"tb_dentist_normal\")\n\n# 보정값 추출(high,low)\n# 하위\nspark.sql(\"\"\"\nwith data as (\n  select yyyymm, upjong_nm, gubun_amt, min(bigint(sale_amt)) as sale_min\n  from tb_dentist\n  where gubun_amt = '100'\n  group by 1,2,3\n)\nselect *\nfrom raw_all\nwhere upjong_nm = \"치과\"\nand sale_amt in (select sale_min from data)\n\"\"\").createOrReplaceTempView(\"dentist_m_value_low\")\n\n# 상위\nspark.sql(\"\"\"\nwith data as (\n  select yyyymm, upjong_nm, gubun_amt, max(bigint(sale_amt)) as sale_min\n  from tb_dentist\n  where gubun_amt = '100'\n  group by 1,2,3\n)\nselect *\nfrom raw_all\nwhere upjong_nm = \"치과\"\nand sale_amt in (select sale_min from data)\n\"\"\").createOrReplaceTempView(\"dentist_m_value_high\")\n\n#보정대상 보정하기\n# 상위 0.1%\nspark.sql(\"\"\"\nselect a.yyyymm, a.key, a.mega_cd, a.cty_cd, a.admi_cd, a.blk_cd_v3,a.upjong_nm, a.name as store_nm, a.addr, a.per_rnk_amt, a.gubun_amt\n  , b.sale_cnt,b.sale_amt,b.cnt_m_20under,b.cnt_m_2024,b.cnt_m_2529,b.cnt_m_3034,b.cnt_m_3539,b.cnt_m_4044,b.cnt_m_4549,b.cnt_m_5054,b.cnt_m_5559,b.cnt_m_6064,b.cnt_m_6569,b.cnt_m_70over,b.cnt_w_20under,b.cnt_w_2024,b.cnt_w_2529,b.cnt_w_3034,b.cnt_w_3539,b.cnt_w_4044,b.cnt_w_4549,b.cnt_w_5054,b.cnt_w_5559,b.cnt_w_6064,b.cnt_w_6569,b.cnt_w_70over,b.sale_m_20under,b.sale_m_2024,b.sale_m_2529,b.sale_m_3034,b.sale_m_3539,b.sale_m_4044,b.sale_m_4549,b.sale_m_5054,b.sale_m_5559,b.sale_m_6064,b.sale_m_6569,b.sale_m_70over,b.sale_w_20under,b.sale_w_2024,b.sale_w_2529,b.sale_w_3034,b.sale_w_3539,b.sale_w_4044,b.sale_w_4549,b.sale_w_5054,b.sale_w_5559,b.sale_w_6064,b.sale_w_6569,b.sale_w_70over,b.cnt_mon,b.cnt_tue,b.cnt_wed,b.cnt_thu,b.cnt_fri,b.cnt_sat,b.cnt_sun,b.sale_mon,b.sale_tue,b.sale_wed,b.sale_thu,b.sale_fri,b.sale_sat,b.sale_sun,b.cnt_0003,b.cnt_0306,b.cnt_0609,b.cnt_0912,b.cnt_1215,b.cnt_1518,b.cnt_1821,b.cnt_2124,b.sale_0003,b.sale_0306,b.sale_0609,b.sale_0912,b.sale_1215,b.sale_1518,b.sale_1821,b.sale_2124,b.cnt_12m,b.sale_12m,b.cnt_6m,b.sale_6m,b.cnt_3m,b.sale_3m,b.cnt_1m,b.sale_1m,b.cnt_new,b.sale_new\n  , a.term_month, a.term_1_under, a.term_1_2, a.term_2_3, a.term_3_4, a.term_4_5, a.term_5_over,a.area1_nm,a.area1_ratio,a.area2_nm,a.area2_ratio,a.area3_nm,a.area3_ratio,a.area4_nm,a.area4_ratio,a.area5_nm,a.area5_ratio,a.area6_nm,a.area6_ratio,a.area7_nm,a.area7_ratio,a.area8_nm,a.area8_ratio,a.area9_nm,a.area9_ratio,a.area10_nm,a.area10_ratio\nfrom tb_dentist_high a\n  left join dentist_m_value_high b\n    on a.yyyymm = b.yyyymm and a.upjong_nm = b.upjong_nm\norder by upjong_nm\n\"\"\").createOrReplaceTempView(\"dentist_m_after_high\")\n\n# .coalesce(5)\n# .write\n# .mode(\"overwrite\")\n# .parquet(\"/tmp/KB_MEDI/\" + yyyymm + \"/DENTIST/PREP_HIGH\")\n\n#보정대상 보정하기\n# 하위 10%\nspark.sql(\"\"\"\nselect a.yyyymm, a.key, a.mega_cd, a.cty_cd, a.admi_cd, a.blk_cd_v3,a.upjong_nm, a.name as store_nm, a.addr, a.per_rnk_amt, a.gubun_amt\n  , b.sale_cnt,b.sale_amt,b.cnt_m_20under,b.cnt_m_2024,b.cnt_m_2529,b.cnt_m_3034,b.cnt_m_3539,b.cnt_m_4044,b.cnt_m_4549,b.cnt_m_5054,b.cnt_m_5559,b.cnt_m_6064,b.cnt_m_6569,b.cnt_m_70over,b.cnt_w_20under,b.cnt_w_2024,b.cnt_w_2529,b.cnt_w_3034,b.cnt_w_3539,b.cnt_w_4044,b.cnt_w_4549,b.cnt_w_5054,b.cnt_w_5559,b.cnt_w_6064,b.cnt_w_6569,b.cnt_w_70over,b.sale_m_20under,b.sale_m_2024,b.sale_m_2529,b.sale_m_3034,b.sale_m_3539,b.sale_m_4044,b.sale_m_4549,b.sale_m_5054,b.sale_m_5559,b.sale_m_6064,b.sale_m_6569,b.sale_m_70over,b.sale_w_20under,b.sale_w_2024,b.sale_w_2529,b.sale_w_3034,b.sale_w_3539,b.sale_w_4044,b.sale_w_4549,b.sale_w_5054,b.sale_w_5559,b.sale_w_6064,b.sale_w_6569,b.sale_w_70over,b.cnt_mon,b.cnt_tue,b.cnt_wed,b.cnt_thu,b.cnt_fri,b.cnt_sat,b.cnt_sun,b.sale_mon,b.sale_tue,b.sale_wed,b.sale_thu,b.sale_fri,b.sale_sat,b.sale_sun,b.cnt_0003,b.cnt_0306,b.cnt_0609,b.cnt_0912,b.cnt_1215,b.cnt_1518,b.cnt_1821,b.cnt_2124,b.sale_0003,b.sale_0306,b.sale_0609,b.sale_0912,b.sale_1215,b.sale_1518,b.sale_1821,b.sale_2124,b.cnt_12m,b.sale_12m,b.cnt_6m,b.sale_6m,b.cnt_3m,b.sale_3m,b.cnt_1m,b.sale_1m,b.cnt_new,b.sale_new\n  , a.term_month, a.term_1_under, a.term_1_2, a.term_2_3, a.term_3_4, a.term_4_5, a.term_5_over,a.area1_nm,a.area1_ratio,a.area2_nm,a.area2_ratio,a.area3_nm,a.area3_ratio,a.area4_nm,a.area4_ratio,a.area5_nm,a.area5_ratio,a.area6_nm,a.area6_ratio,a.area7_nm,a.area7_ratio,a.area8_nm,a.area8_ratio,a.area9_nm,a.area9_ratio,a.area10_nm,a.area10_ratio\nfrom tb_dentist_low a\n  left join dentist_m_value_low b\n    on a.yyyymm = b.yyyymm and a.upjong_nm = b.upjong_nm\norder by upjong_nm\n\"\"\").createOrReplaceTempView(\"dentist_m_after_low\")\n\n# .coalesce(5)\n# .write\n# .mode(\"overwrite\")\n# .parquet(\"/tmp/KB_MEDI/\" + yyyymm + \"/DENTIST/PREP_LOW\")\n\n# spark.read\n# .parquet(\"/tmp/KB_MEDI/\" + yyyymm + \"/DENTIST/PREP_HIGH\")\n# .createOrReplaceTempView(\"m_after_high\")\n\n# spark.read\n# .parquet(\"/tmp/KB_MEDI/\" + yyyymm + \"/DENTIST/PREP_LOW\")\n# .createOrReplaceTempView(\"m_after_low\")\n\n#상위 + 중간 + 하위 모두 union\nspark.sql(\"\"\"\nselect *\nfrom dentist_m_after_high\n\nunion\n\nselect yyyymm,key,mega_cd,cty_cd,admi_cd,blk_cd_v3,upjong_nm,name as store_nm,addr,per_rnk_amt,gubun_amt,sale_cnt,sale_amt,cnt_m_20under,cnt_m_2024,cnt_m_2529,cnt_m_3034,cnt_m_3539,cnt_m_4044,cnt_m_4549,cnt_m_5054,cnt_m_5559,cnt_m_6064,cnt_m_6569,cnt_m_70over,cnt_w_20under,cnt_w_2024,cnt_w_2529,cnt_w_3034,cnt_w_3539,cnt_w_4044,cnt_w_4549,cnt_w_5054,cnt_w_5559,cnt_w_6064,cnt_w_6569,cnt_w_70over,sale_m_20under,sale_m_2024,sale_m_2529,sale_m_3034,sale_m_3539,sale_m_4044,sale_m_4549,sale_m_5054,sale_m_5559,sale_m_6064,sale_m_6569,sale_m_70over,sale_w_20under,sale_w_2024,sale_w_2529,sale_w_3034,sale_w_3539,sale_w_4044,sale_w_4549,sale_w_5054,sale_w_5559,sale_w_6064,sale_w_6569,sale_w_70over,cnt_mon,cnt_tue,cnt_wed,cnt_thu,cnt_fri,cnt_sat,cnt_sun,sale_mon,sale_tue,sale_wed,sale_thu,sale_fri,sale_sat,sale_sun,cnt_0003,cnt_0306,cnt_0609,cnt_0912,cnt_1215,cnt_1518,cnt_1821,cnt_2124,sale_0003,sale_0306,sale_0609,sale_0912,sale_1215,sale_1518,sale_1821,sale_2124,cnt_12m,sale_12m,cnt_6m,sale_6m,cnt_3m,sale_3m,cnt_1m,sale_1m,cnt_new,sale_new,term_month,term_1_under,term_1_2,term_2_3,term_3_4,term_4_5,term_5_over,area1_nm,area1_ratio,area2_nm,area2_ratio,area3_nm,area3_ratio,area4_nm,area4_ratio,area5_nm,area5_ratio,area6_nm,area6_ratio,area7_nm,area7_ratio,area8_nm,area8_ratio,area9_nm,area9_ratio,area10_nm,area10_ratio\nfrom tb_dentist_normal\n\nunion\n\nselect *\nfrom dentist_m_after_low\n\"\"\").createOrReplaceTempView(\"union_dentist\")\n\nspark.sql(\"\"\"\nselect yyyymm,key,store_nm,addr,\"S04003\" as upjong3_cd,mega_cd,cty_cd,admi_cd,blk_cd_v3,sale_cnt,sale_amt,cnt_m_20under,cnt_m_2024,cnt_m_2529,cnt_m_3034,cnt_m_3539,cnt_m_4044,cnt_m_4549,cnt_m_5054,cnt_m_5559,cnt_m_6064,cnt_m_6569,cnt_m_70over,cnt_w_20under,cnt_w_2024,cnt_w_2529,cnt_w_3034,cnt_w_3539,cnt_w_4044,cnt_w_4549,cnt_w_5054,cnt_w_5559,cnt_w_6064,cnt_w_6569,cnt_w_70over,sale_m_20under,sale_m_2024,sale_m_2529,sale_m_3034,sale_m_3539,sale_m_4044,sale_m_4549,sale_m_5054,sale_m_5559,sale_m_6064,sale_m_6569,sale_m_70over,sale_w_20under,sale_w_2024,sale_w_2529,sale_w_3034,sale_w_3539,sale_w_4044,sale_w_4549,sale_w_5054,sale_w_5559,sale_w_6064,sale_w_6569,sale_w_70over,cnt_mon,cnt_tue,cnt_wed,cnt_thu,cnt_fri,cnt_sat,cnt_sun,sale_mon,sale_tue,sale_wed,sale_thu,sale_fri,sale_sat,sale_sun,cnt_0003,cnt_0306,cnt_0609,cnt_0912,cnt_1215,cnt_1518,cnt_1821,cnt_2124,sale_0003,sale_0306,sale_0609,sale_0912,sale_1215,sale_1518,sale_1821,sale_2124,cnt_12m,sale_12m,cnt_6m,sale_6m,cnt_3m,sale_3m,cnt_1m,sale_1m,cnt_new,sale_new,term_month,term_1_under,term_1_2,term_2_3,term_3_4,term_4_5,term_5_over,area1_nm,area1_ratio,area2_nm,area2_ratio,area3_nm,area3_ratio,area4_nm,area4_ratio,area5_nm,area5_ratio,area6_nm,area6_ratio,area7_nm,area7_ratio,area8_nm,area8_ratio,area9_nm,area9_ratio,area10_nm,area10_ratio\nfrom union_dentist\n\"\"\").createOrReplaceTempView(\"dentist_final\")\n# .write\n# .mode(\"overwrite\")\n# .parquet(\"/tmp/KB_MEDI/\" + yyyymm + \"/DENTIST/raw_final\")",
			"metadata": {
				"trusted": true,
				"tags": []
			},
			"execution_count": 24,
			"outputs": [
				{
					"name": "stdout",
					"text": "\n",
					"output_type": "stream"
				}
			]
		},
		{
			"cell_type": "code",
			"source": "%%sql\nselect count(1) from dentist_final",
			"metadata": {
				"trusted": true,
				"tags": []
			},
			"execution_count": 34,
			"outputs": [
				{
					"name": "stdout",
					"text": "+--------+\n|count(1)|\n+--------+\n|   17154|\n+--------+\n",
					"output_type": "stream"
				}
			]
		},
		{
			"cell_type": "code",
			"source": "## 마지막 데이터 병합 : merge_raw\n#의원+약국 RAW 생성\nfinal_df = spark.sql(\"\"\"\nwith data as (\n    select yyyymm,key,store_nm,addr,upjong3_cd,mega_cd,cty_cd,admi_cd,blk_cd_v3,sale_cnt,sale_amt,cnt_m_20under,cnt_m_2024,cnt_m_2529,cnt_m_3034,cnt_m_3539,cnt_m_4044,cnt_m_4549,cnt_m_5054,cnt_m_5559,cnt_m_6064,cnt_m_6569,cnt_m_70over,cnt_w_20under,cnt_w_2024,cnt_w_2529,cnt_w_3034,cnt_w_3539,cnt_w_4044,cnt_w_4549,cnt_w_5054,cnt_w_5559,cnt_w_6064,cnt_w_6569,cnt_w_70over,sale_m_20under,sale_m_2024,sale_m_2529,sale_m_3034,sale_m_3539,sale_m_4044,sale_m_4549,sale_m_5054,sale_m_5559,sale_m_6064,sale_m_6569,sale_m_70over,sale_w_20under,sale_w_2024,sale_w_2529,sale_w_3034,sale_w_3539,sale_w_4044,sale_w_4549,sale_w_5054,sale_w_5559,sale_w_6064,sale_w_6569,sale_w_70over,cnt_mon,cnt_tue,cnt_wed,cnt_thu,cnt_fri,cnt_sat,cnt_sun,sale_mon,sale_tue,sale_wed,sale_thu,sale_fri,sale_sat,sale_sun,cnt_0003,cnt_0306,cnt_0609,cnt_0912,cnt_1215,cnt_1518,cnt_1821,cnt_2124,sale_0003,sale_0306,sale_0609,sale_0912,sale_1215,sale_1518,sale_1821,sale_2124,cnt_12m,sale_12m,cnt_6m,sale_6m,cnt_3m,sale_3m,cnt_1m,sale_1m,cnt_new,sale_new,term_month,term_1_under,term_1_2,term_2_3,term_3_4,term_4_5,term_5_over,area1_nm,area1_ratio,area2_nm,area2_ratio,area3_nm,area3_ratio,area4_nm,area4_ratio,area5_nm,area5_ratio,area6_nm,area6_ratio,area7_nm,area7_ratio,area8_nm,area8_ratio,area9_nm,area9_ratio,area10_nm,area10_ratio\n    from pharmacy_final\n\n    union\n\n    select yyyymm,key,store_nm,addr,upjong_cd as upjong3_cd,mega_cd,cty_cd,admi_cd,blk_cd_v3,sale_cnt,sale_amt,cnt_m_20under,cnt_m_2024,cnt_m_2529,cnt_m_3034,cnt_m_3539,cnt_m_4044,cnt_m_4549,cnt_m_5054,cnt_m_5559,cnt_m_6064,cnt_m_6569,cnt_m_70over,cnt_w_20under,cnt_w_2024,cnt_w_2529,cnt_w_3034,cnt_w_3539,cnt_w_4044,cnt_w_4549,cnt_w_5054,cnt_w_5559,cnt_w_6064,cnt_w_6569,cnt_w_70over,sale_m_20under,sale_m_2024,sale_m_2529,sale_m_3034,sale_m_3539,sale_m_4044,sale_m_4549,sale_m_5054,sale_m_5559,sale_m_6064,sale_m_6569,sale_m_70over,sale_w_20under,sale_w_2024,sale_w_2529,sale_w_3034,sale_w_3539,sale_w_4044,sale_w_4549,sale_w_5054,sale_w_5559,sale_w_6064,sale_w_6569,sale_w_70over,cnt_mon,cnt_tue,cnt_wed,cnt_thu,cnt_fri,cnt_sat,cnt_sun,sale_mon,sale_tue,sale_wed,sale_thu,sale_fri,sale_sat,sale_sun,cnt_0003,cnt_0306,cnt_0609,cnt_0912,cnt_1215,cnt_1518,cnt_1821,cnt_2124,sale_0003,sale_0306,sale_0609,sale_0912,sale_1215,sale_1518,sale_1821,sale_2124,cnt_12m,sale_12m,cnt_6m,sale_6m,cnt_3m,sale_3m,cnt_1m,sale_1m,cnt_new,sale_new,term_month,term_1_under,term_1_2,term_2_3,term_3_4,term_4_5,term_5_over,area1_nm,area1_ratio,area2_nm,area2_ratio,area3_nm,area3_ratio,area4_nm,area4_ratio,area5_nm,area5_ratio,area6_nm,area6_ratio,area7_nm,area7_ratio,area8_nm,area8_ratio,area9_nm,area9_ratio,area10_nm,area10_ratio\n    from hospital_final\n\n    union\n\n    select  yyyymm,key,store_nm,addr, upjong3_cd,mega_cd,cty_cd,admi_cd,blk_cd_v3,sale_cnt,sale_amt,cnt_m_20under,cnt_m_2024,cnt_m_2529,cnt_m_3034,cnt_m_3539,cnt_m_4044,cnt_m_4549,cnt_m_5054,cnt_m_5559,cnt_m_6064,cnt_m_6569,cnt_m_70over,cnt_w_20under,cnt_w_2024,cnt_w_2529,cnt_w_3034,cnt_w_3539,cnt_w_4044,cnt_w_4549,cnt_w_5054,cnt_w_5559,cnt_w_6064,cnt_w_6569,cnt_w_70over,sale_m_20under,sale_m_2024,sale_m_2529,sale_m_3034,sale_m_3539,sale_m_4044,sale_m_4549,sale_m_5054,sale_m_5559,sale_m_6064,sale_m_6569,sale_m_70over,sale_w_20under,sale_w_2024,sale_w_2529,sale_w_3034,sale_w_3539,sale_w_4044,sale_w_4549,sale_w_5054,sale_w_5559,sale_w_6064,sale_w_6569,sale_w_70over,cnt_mon,cnt_tue,cnt_wed,cnt_thu,cnt_fri,cnt_sat,cnt_sun,sale_mon,sale_tue,sale_wed,sale_thu,sale_fri,sale_sat,sale_sun,cnt_0003,cnt_0306,cnt_0609,cnt_0912,cnt_1215,cnt_1518,cnt_1821,cnt_2124,sale_0003,sale_0306,sale_0609,sale_0912,sale_1215,sale_1518,sale_1821,sale_2124,cnt_12m,sale_12m,cnt_6m,sale_6m,cnt_3m,sale_3m,cnt_1m,sale_1m,cnt_new,sale_new,term_month,term_1_under,term_1_2,term_2_3,term_3_4,term_4_5,term_5_over,area1_nm,area1_ratio,area2_nm,area2_ratio,area3_nm,area3_ratio,area4_nm,area4_ratio,area5_nm,area5_ratio,area6_nm,area6_ratio,area7_nm,area7_ratio,area8_nm,area8_ratio,area9_nm,area9_ratio,area10_nm,area10_ratio\n    from dentist_final\n)\nselect * from data\nwhere blk_cd_v3 is not null and mega_cd is not null and cty_cd is not null and admi_cd is not null\n\"\"\").createOrReplaceTempView(\"all_final\")\n# .write\n# .mode(\"overwrite\")\n# .parquet(\"/DATA/DW/CARD/KB_MEDI/TBKBMEDI_STORE_TMP/\" + yyyymm)\n\n# val PH_nn = spark.read.parquet(\"/tmp/KB_MEDI/\"+yyyymm+\"/PHARMACY/multiplication/*\").count()\n# val HOS_nn = spark.read.parquet(\"/tmp/KB_MEDI/\" + yyyymm + \"/HOSPITAL/raw_last\").count()\n# val DEN_nn = spark.read.parquet(\"/tmp/KB_MEDI/\" + yyyymm + \"/DENTIST/raw_final\").count()\n# val ALL_nn = spark.read.parquet(\"/DATA/DW/CARD/KB_MEDI/TBKBMEDI_STORE_TMP/\" + yyyymm).count()\n# val ALL_uni_nn = PH_nn + HOS_nn + DEN_nn\n# val cnt_chk = ALL_nn <= ALL_uni_nn\n# val drop_nn = ALL_uni_nn - ALL_nn\n\n# println(\"PHARMACY_FINAL_CNT: \"+ PH_nn)\n# println(\"HOSPITAL_FINAL_CNT: \"+ HOS_nn)\n# println(\"DENTIST_FINAL_CNT: \"+DEN_nn)\n# println(\"ALL_CNT: \" + ALL_nn)\n# println(\"CNT_CHK: \"+ cnt_chk + \" (DROP_CNT: \" + drop_nn + \")\")",
			"metadata": {
				"trusted": true,
				"tags": []
			},
			"execution_count": 26,
			"outputs": [
				{
					"name": "stdout",
					"text": "\n",
					"output_type": "stream"
				}
			]
		},
		{
			"cell_type": "code",
			"source": "%%sql\nselect distinct yyyymm from all_final",
			"metadata": {
				"trusted": true,
				"tags": []
			},
			"execution_count": 35,
			"outputs": [
				{
					"name": "stdout",
					"text": "+------+\n|yyyymm|\n+------+\n|202507|\n+------+\n",
					"output_type": "stream"
				}
			]
		},
		{
			"cell_type": "code",
			"source": "%%sql\n\nselect 'pharmacy_final' as type, count(1) cnt from pharmacy_final\nunion all\nselect 'hospital_final', count(1) cnt from hospital_final\nunion all\nselect 'dentist_final', count(1) cnt from dentist_final\nunion all\nselect 'all_final', count(1) cnt from all_final\n",
			"metadata": {
				"trusted": true,
				"tags": []
			},
			"execution_count": 27,
			"outputs": [
				{
					"name": "stdout",
					"text": "+--------------+-----+\n|          type|  cnt|\n+--------------+-----+\n|pharmacy_final|23475|\n|hospital_final|34349|\n| dentist_final|17154|\n|     all_final|74772|\n+--------------+-----+\n",
					"output_type": "stream"
				}
			]
		},
		{
			"cell_type": "markdown",
			"source": "## 최종결과를 iceberg 테이블로 덮어쓰기\n- yyyymm 컬럼 파티션명이랑 동일하여 drop하고 insert",
			"metadata": {}
		},
		{
			"cell_type": "code",
			"source": "spark.sql(f\"\"\"\nINSERT OVERWRITE nice_database.tbkbcard_medi_store \nPARTITION (yyyymm = '{yyyymm}')\nSELECT \nkey,store_nm,addr,upjong3_cd,mega_cd,cty_cd,admi_cd,blk_cd_v3,sale_cnt,sale_amt,cnt_m_20under,cnt_m_2024,cnt_m_2529,cnt_m_3034,cnt_m_3539,cnt_m_4044,cnt_m_4549,cnt_m_5054,cnt_m_5559,cnt_m_6064,cnt_m_6569,cnt_m_70over,cnt_w_20under,cnt_w_2024,cnt_w_2529,cnt_w_3034,cnt_w_3539,cnt_w_4044,cnt_w_4549,cnt_w_5054,cnt_w_5559,cnt_w_6064,cnt_w_6569,cnt_w_70over,sale_m_20under,sale_m_2024,sale_m_2529,sale_m_3034,sale_m_3539,sale_m_4044,sale_m_4549,sale_m_5054,sale_m_5559,sale_m_6064,sale_m_6569,sale_m_70over,sale_w_20under,sale_w_2024,sale_w_2529,sale_w_3034,sale_w_3539,sale_w_4044,sale_w_4549,sale_w_5054,sale_w_5559,sale_w_6064,sale_w_6569,sale_w_70over,cnt_mon,cnt_tue,cnt_wed,cnt_thu,cnt_fri,cnt_sat,cnt_sun,sale_mon,sale_tue,sale_wed,sale_thu,sale_fri,sale_sat,sale_sun,cnt_0003,cnt_0306,cnt_0609,cnt_0912,cnt_1215,cnt_1518,cnt_1821,cnt_2124,sale_0003,sale_0306,sale_0609,sale_0912,sale_1215,sale_1518,sale_1821,sale_2124,cnt_12m,sale_12m,cnt_6m,sale_6m,cnt_3m,sale_3m,cnt_1m,sale_1m,cnt_new,sale_new,term_month,term_1_under,term_1_2,term_2_3,term_3_4,term_4_5,term_5_over,area1_nm,area1_ratio,area2_nm,area2_ratio,area3_nm,area3_ratio,area4_nm,area4_ratio,area5_nm,area5_ratio,area6_nm,area6_ratio,area7_nm,area7_ratio,area8_nm,area8_ratio,area9_nm,area9_ratio,area10_nm,area10_ratio\nFROM all_final\n\"\"\")",
			"metadata": {
				"trusted": true,
				"tags": []
			},
			"execution_count": 38,
			"outputs": [
				{
					"name": "stdout",
					"text": "DataFrame[]\n",
					"output_type": "stream"
				}
			]
		},
		{
			"cell_type": "code",
			"source": "spark.sql(f\"\"\"\nselect count(1) cnt from nice_database.tbkbcard_medi_store \nwhere yyyymm = '{yyyymm}'\n\"\"\").show()",
			"metadata": {
				"trusted": true,
				"tags": []
			},
			"execution_count": 39,
			"outputs": [
				{
					"name": "stdout",
					"text": "+-----+\n|  cnt|\n+-----+\n|74772|\n+-----+\n",
					"output_type": "stream"
				}
			]
		},
		{
			"cell_type": "code",
			"source": "",
			"metadata": {},
			"execution_count": null,
			"outputs": []
		}
	]
}