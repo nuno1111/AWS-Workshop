{
	"metadata": {
		"kernelspec": {
			"name": "glue_pyspark",
			"display_name": "Glue PySpark",
			"language": "python"
		},
		"language_info": {
			"name": "Python_Glue_Session",
			"mimetype": "text/x-python",
			"codemirror_mode": {
				"name": "python",
				"version": 3
			},
			"pygments_lexer": "python3",
			"file_extension": ".py"
		}
	},
	"nbformat_minor": 4,
	"nbformat": 4,
	"cells": [
		{
			"cell_type": "markdown",
			"source": "# S023-getraw Job\n### 병원/약국 정보를 입수하여 초기 데이터를 적재하기 위한 Job\n### 기존 Airflow의 다음 부분이 해당\n```python\nget_raw >> get_raw_2\n```",
			"metadata": {
				"editable": true,
				"trusted": true
			}
		},
		{
			"cell_type": "code",
			"source": "%idle_timeout 60\n%glue_version 5.0\n%worker_type G.1X\n%number_of_workers 2\n\nimport sys\nfrom awsglue.transforms import *\nfrom awsglue.utils import getResolvedOptions\nfrom pyspark.context import SparkContext\nfrom awsglue.context import GlueContext\nfrom awsglue.job import Job\n  \nsc = SparkContext.getOrCreate() \nglueContext = GlueContext(sc) \nspark = glueContext.spark_session\njob = Job(glueContext) ",
			"metadata": {
				"trusted": true,
				"editable": true
			},
			"execution_count": 1,
			"outputs": [
				{
					"name": "stdout",
					"text": "Welcome to the Glue Interactive Sessions Kernel\nFor more information on available magic commands, please type %help in any new cell.\n\nPlease view our Getting Started page to access the most up-to-date information on the Interactive Sessions kernel: https://docs.aws.amazon.com/glue/latest/dg/interactive-sessions.html\nInstalled kernel version: 1.0.8 \nCurrent idle_timeout is None minutes.\nidle_timeout has been set to 60 minutes.\nSetting Glue version to: 5.0\nPrevious worker type: None\nSetting new worker type to: G.1X\nPrevious number of workers: None\nSetting new number of workers to: 2\nTrying to create a Glue session for the kernel.\nSession Type: glueetl\nWorker Type: G.1X\nNumber of Workers: 2\nIdle Timeout: 60\nSession ID: cdc0a39b-02e0-4740-9b47-63e62d5d9031\nApplying the following default arguments:\n--glue_kernel_version 1.0.8\n--enable-glue-datacatalog true\nWaiting for session cdc0a39b-02e0-4740-9b47-63e62d5d9031 to get into ready status...\nSession cdc0a39b-02e0-4740-9b47-63e62d5d9031 has been created.\n\n",
					"output_type": "stream"
				}
			]
		},
		{
			"cell_type": "code",
			"source": "# MWAA에서 전달한 파라미터들을 받기\nargs = getResolvedOptions(sys.argv, [\n    'JOB_NAME',           # 기본 파라미터 (항상 있음) \\\n    'yyyymm'      # --database_name=prod_db\n]) \n\n\ns3_bucket = \"s3://demo.nice.co.kr.datalake\"\nyyyymm = args['yyyymm'] # 실제로는 Param으로 받아오기\n# yyyymm = \"202507\"\nYYYY = yyyymm[:4]  # \"2025\"\nMM = yyyymm[4:6]   # \"07\"",
			"metadata": {
				"trusted": true,
				"tags": []
			},
			"execution_count": 4,
			"outputs": [
				{
					"name": "stdout",
					"text": "GlueArgumentError: the following arguments are required: --JOB_NAME, --yyyymm\n",
					"output_type": "stream"
				}
			]
		},
		{
			"cell_type": "markdown",
			"source": "## K카드 월 데이터 읽어오기 : getRaw.scala",
			"metadata": {}
		},
		{
			"cell_type": "code",
			"source": "KB_GAIN_1_df = spark.read \\\n    .option(\"encoding\", \"utf-8\") \\\n    .option(\"header\", \"true\") \\\n    .csv(f\"{s3_bucket}/DI/CARD/KB_MEDI/ORG/\"+ YYYY + \"/\" + MM +\"/KB국민카드_의료서비스_개인파트1_월별매출집계데이터_\" + yyyymm + \".csv\") \\\n    .withColumnRenamed(\"medical_indv_p1_final_\"+ yyyymm +\".yyyymm\",\"yyyymm\") \\\n    .withColumnRenamed(\"medical_indv_p1_final_\"+ yyyymm +\".key\",\"key\") \\\n    .withColumnRenamed(\"medical_indv_p1_final_\"+ yyyymm +\".mega_gubun\",\"mega_gubun\") \\\n    .withColumnRenamed(\"medical_indv_p1_final_\"+ yyyymm +\".admi_cd\",\"admi_cd\") \\\n    .withColumnRenamed(\"medical_indv_p1_final_\"+ yyyymm +\".admi_nm\",\"admi_nm\") \\\n    .withColumnRenamed(\"medical_indv_p1_final_\"+ yyyymm +\".upjong1_cd\",\"upjong1_cd\") \\\n    .withColumnRenamed(\"medical_indv_p1_final_\"+ yyyymm +\".upjong1_nm\",\"upjong1_nm\") \\\n    .withColumnRenamed(\"medical_indv_p1_final_\"+ yyyymm +\".upjong2_cd\",\"upjong2_cd\") \\\n    .withColumnRenamed(\"medical_indv_p1_final_\"+ yyyymm +\".upjong2_nm\",\"upjong2_nm\") \\\n    .withColumnRenamed(\"medical_indv_p1_final_\"+ yyyymm +\".upjong3_cd\",\"upjong3_cd\") \\\n    .withColumnRenamed(\"medical_indv_p1_final_\"+ yyyymm +\".upjong3_nm\",\"upjong3_nm\") \\\n    .withColumnRenamed(\"medical_indv_p1_final_\"+ yyyymm +\".sale_cnt\",\"sale_cnt\") \\\n    .withColumnRenamed(\"medical_indv_p1_final_\"+ yyyymm +\".sale_amt\",\"sale_amt\") \\\n    .withColumnRenamed(\"medical_indv_p1_final_\"+ yyyymm +\".cnt_m_20under\",\"cnt_m_20under\") \\\n    .withColumnRenamed(\"medical_indv_p1_final_\"+ yyyymm +\".cnt_m_2024\",\"cnt_m_2024\") \\\n    .withColumnRenamed(\"medical_indv_p1_final_\"+ yyyymm +\".cnt_m_2529\",\"cnt_m_2529\") \\\n    .withColumnRenamed(\"medical_indv_p1_final_\"+ yyyymm +\".cnt_m_3034\",\"cnt_m_3034\") \\\n    .withColumnRenamed(\"medical_indv_p1_final_\"+ yyyymm +\".cnt_m_3539\",\"cnt_m_3539\") \\\n    .withColumnRenamed(\"medical_indv_p1_final_\"+ yyyymm +\".cnt_m_4044\",\"cnt_m_4044\") \\\n    .withColumnRenamed(\"medical_indv_p1_final_\"+ yyyymm +\".cnt_m_4549\",\"cnt_m_4549\") \\\n    .withColumnRenamed(\"medical_indv_p1_final_\"+ yyyymm +\".cnt_m_5054\",\"cnt_m_5054\") \\\n    .withColumnRenamed(\"medical_indv_p1_final_\"+ yyyymm +\".cnt_m_5559\",\"cnt_m_5559\") \\\n    .withColumnRenamed(\"medical_indv_p1_final_\"+ yyyymm +\".cnt_m_6064\",\"cnt_m_6064\") \\\n    .withColumnRenamed(\"medical_indv_p1_final_\"+ yyyymm +\".cnt_m_6569\",\"cnt_m_6569\") \\\n    .withColumnRenamed(\"medical_indv_p1_final_\"+ yyyymm +\".cnt_m_70over\",\"cnt_m_70over\") \\\n    .withColumnRenamed(\"medical_indv_p1_final_\"+ yyyymm +\".cnt_w_20under\",\"cnt_w_20under\") \\\n    .withColumnRenamed(\"medical_indv_p1_final_\"+ yyyymm +\".cnt_w_2024\",\"cnt_w_2024\") \\\n    .withColumnRenamed(\"medical_indv_p1_final_\"+ yyyymm +\".cnt_w_2529\",\"cnt_w_2529\") \\\n    .withColumnRenamed(\"medical_indv_p1_final_\"+ yyyymm +\".cnt_w_3034\",\"cnt_w_3034\") \\\n    .withColumnRenamed(\"medical_indv_p1_final_\"+ yyyymm +\".cnt_w_3539\",\"cnt_w_3539\") \\\n    .withColumnRenamed(\"medical_indv_p1_final_\"+ yyyymm +\".cnt_w_4044\",\"cnt_w_4044\") \\\n    .withColumnRenamed(\"medical_indv_p1_final_\"+ yyyymm +\".cnt_w_4549\",\"cnt_w_4549\") \\\n    .withColumnRenamed(\"medical_indv_p1_final_\"+ yyyymm +\".cnt_w_5054\",\"cnt_w_5054\") \\\n    .withColumnRenamed(\"medical_indv_p1_final_\"+ yyyymm +\".cnt_w_5559\",\"cnt_w_5559\") \\\n    .withColumnRenamed(\"medical_indv_p1_final_\"+ yyyymm +\".cnt_w_6064\",\"cnt_w_6064\") \\\n    .withColumnRenamed(\"medical_indv_p1_final_\"+ yyyymm +\".cnt_w_6569\",\"cnt_w_6569\") \\\n    .withColumnRenamed(\"medical_indv_p1_final_\"+ yyyymm +\".cnt_w_70over\",\"cnt_w_70over\") \\\n    .withColumnRenamed(\"medical_indv_p1_final_\"+ yyyymm +\".sale_m_20under\",\"sale_m_20under\") \\\n    .withColumnRenamed(\"medical_indv_p1_final_\"+ yyyymm +\".sale_m_2024\",\"sale_m_2024\") \\\n    .withColumnRenamed(\"medical_indv_p1_final_\"+ yyyymm +\".sale_m_2529\",\"sale_m_2529\") \\\n    .withColumnRenamed(\"medical_indv_p1_final_\"+ yyyymm +\".sale_m_3034\",\"sale_m_3034\") \\\n    .withColumnRenamed(\"medical_indv_p1_final_\"+ yyyymm +\".sale_m_3539\",\"sale_m_3539\") \\\n    .withColumnRenamed(\"medical_indv_p1_final_\"+ yyyymm +\".sale_m_4044\",\"sale_m_4044\") \\\n    .withColumnRenamed(\"medical_indv_p1_final_\"+ yyyymm +\".sale_m_4549\",\"sale_m_4549\") \\\n    .withColumnRenamed(\"medical_indv_p1_final_\"+ yyyymm +\".sale_m_5054\",\"sale_m_5054\") \\\n    .withColumnRenamed(\"medical_indv_p1_final_\"+ yyyymm +\".sale_m_5559\",\"sale_m_5559\") \\\n    .withColumnRenamed(\"medical_indv_p1_final_\"+ yyyymm +\".sale_m_6064\",\"sale_m_6064\") \\\n    .withColumnRenamed(\"medical_indv_p1_final_\"+ yyyymm +\".sale_m_6569\",\"sale_m_6569\") \\\n    .withColumnRenamed(\"medical_indv_p1_final_\"+ yyyymm +\".sale_m_70over\",\"sale_m_70over\") \\\n    .withColumnRenamed(\"medical_indv_p1_final_\"+ yyyymm +\".sale_w_20under\",\"sale_w_20under\") \\\n    .withColumnRenamed(\"medical_indv_p1_final_\"+ yyyymm +\".sale_w_2024\",\"sale_w_2024\") \\\n    .withColumnRenamed(\"medical_indv_p1_final_\"+ yyyymm +\".sale_w_2529\",\"sale_w_2529\") \\\n    .withColumnRenamed(\"medical_indv_p1_final_\"+ yyyymm +\".sale_w_3034\",\"sale_w_3034\") \\\n    .withColumnRenamed(\"medical_indv_p1_final_\"+ yyyymm +\".sale_w_3539\",\"sale_w_3539\") \\\n    .withColumnRenamed(\"medical_indv_p1_final_\"+ yyyymm +\".sale_w_4044\",\"sale_w_4044\") \\\n    .withColumnRenamed(\"medical_indv_p1_final_\"+ yyyymm +\".sale_w_4549\",\"sale_w_4549\") \\\n    .withColumnRenamed(\"medical_indv_p1_final_\"+ yyyymm +\".sale_w_5054\",\"sale_w_5054\") \\\n    .withColumnRenamed(\"medical_indv_p1_final_\"+ yyyymm +\".sale_w_5559\",\"sale_w_5559\") \\\n    .withColumnRenamed(\"medical_indv_p1_final_\"+ yyyymm +\".sale_w_6064\",\"sale_w_6064\") \\\n    .withColumnRenamed(\"medical_indv_p1_final_\"+ yyyymm +\".sale_w_6569\",\"sale_w_6569\") \\\n    .withColumnRenamed(\"medical_indv_p1_final_\"+ yyyymm +\".sale_w_70over\",\"sale_w_70over\") \\\n    .withColumnRenamed(\"medical_indv_p1_final_\"+ yyyymm +\".cnt_mon\",\"cnt_mon\") \\\n    .withColumnRenamed(\"medical_indv_p1_final_\"+ yyyymm +\".cnt_tue\",\"cnt_tue\") \\\n    .withColumnRenamed(\"medical_indv_p1_final_\"+ yyyymm +\".cnt_wed\",\"cnt_wed\") \\\n    .withColumnRenamed(\"medical_indv_p1_final_\"+ yyyymm +\".cnt_thu\",\"cnt_thu\") \\\n    .withColumnRenamed(\"medical_indv_p1_final_\"+ yyyymm +\".cnt_fri\",\"cnt_fri\") \\\n    .withColumnRenamed(\"medical_indv_p1_final_\"+ yyyymm +\".cnt_sat\",\"cnt_sat\") \\\n    .withColumnRenamed(\"medical_indv_p1_final_\"+ yyyymm +\".cnt_sun\",\"cnt_sun\") \\\n    .withColumnRenamed(\"medical_indv_p1_final_\"+ yyyymm +\".sale_mon\",\"sale_mon\") \\\n    .withColumnRenamed(\"medical_indv_p1_final_\"+ yyyymm +\".sale_tue\",\"sale_tue\") \\\n    .withColumnRenamed(\"medical_indv_p1_final_\"+ yyyymm +\".sale_wed\",\"sale_wed\") \\\n    .withColumnRenamed(\"medical_indv_p1_final_\"+ yyyymm +\".sale_thu\",\"sale_thu\") \\\n    .withColumnRenamed(\"medical_indv_p1_final_\"+ yyyymm +\".sale_fri\",\"sale_fri\") \\\n    .withColumnRenamed(\"medical_indv_p1_final_\"+ yyyymm +\".sale_sat\",\"sale_sat\") \\\n    .withColumnRenamed(\"medical_indv_p1_final_\"+ yyyymm +\".sale_sun\",\"sale_sun\") \\\n    .withColumnRenamed(\"medical_indv_p1_final_\"+ yyyymm +\".cnt_0003\",\"cnt_0003\") \\\n    .withColumnRenamed(\"medical_indv_p1_final_\"+ yyyymm +\".cnt_0306\",\"cnt_0306\") \\\n    .withColumnRenamed(\"medical_indv_p1_final_\"+ yyyymm +\".cnt_0609\",\"cnt_0609\") \\\n    .withColumnRenamed(\"medical_indv_p1_final_\"+ yyyymm +\".cnt_0912\",\"cnt_0912\") \\\n    .withColumnRenamed(\"medical_indv_p1_final_\"+ yyyymm +\".cnt_1215\",\"cnt_1215\") \\\n    .withColumnRenamed(\"medical_indv_p1_final_\"+ yyyymm +\".cnt_1518\",\"cnt_1518\") \\\n    .withColumnRenamed(\"medical_indv_p1_final_\"+ yyyymm +\".cnt_1821\",\"cnt_1821\") \\\n    .withColumnRenamed(\"medical_indv_p1_final_\"+ yyyymm +\".cnt_2124\",\"cnt_2124\") \\\n    .withColumnRenamed(\"medical_indv_p1_final_\"+ yyyymm +\".sale_0003\",\"sale_0003\") \\\n    .withColumnRenamed(\"medical_indv_p1_final_\"+ yyyymm +\".sale_0306\",\"sale_0306\") \\\n    .withColumnRenamed(\"medical_indv_p1_final_\"+ yyyymm +\".sale_0609\",\"sale_0609\") \\\n    .withColumnRenamed(\"medical_indv_p1_final_\"+ yyyymm +\".sale_0912\",\"sale_0912\") \\\n    .withColumnRenamed(\"medical_indv_p1_final_\"+ yyyymm +\".sale_1215\",\"sale_1215\") \\\n    .withColumnRenamed(\"medical_indv_p1_final_\"+ yyyymm +\".sale_1518\",\"sale_1518\") \\\n    .withColumnRenamed(\"medical_indv_p1_final_\"+ yyyymm +\".sale_1821\",\"sale_1821\") \\\n    .withColumnRenamed(\"medical_indv_p1_final_\"+ yyyymm +\".sale_2124\",\"sale_2124\") \\\n    .withColumnRenamed(\"medical_indv_p1_final_\"+ yyyymm +\".cnt_12m\",\"cnt_12m\") \\\n    .withColumnRenamed(\"medical_indv_p1_final_\"+ yyyymm +\".sale_12m\",\"sale_12m\") \\\n    .withColumnRenamed(\"medical_indv_p1_final_\"+ yyyymm +\".cnt_6m\",\"cnt_6m\") \\\n    .withColumnRenamed(\"medical_indv_p1_final_\"+ yyyymm +\".sale_6m\",\"sale_6m\") \\\n    .withColumnRenamed(\"medical_indv_p1_final_\"+ yyyymm +\".cnt_3m\",\"cnt_3m\") \\\n    .withColumnRenamed(\"medical_indv_p1_final_\"+ yyyymm +\".sale_3m\",\"sale_3m\") \\\n    .withColumnRenamed(\"medical_indv_p1_final_\"+ yyyymm +\".cnt_1m\",\"cnt_1m\") \\\n    .withColumnRenamed(\"medical_indv_p1_final_\"+ yyyymm +\".sale_1m\",\"sale_1m\") \\\n    .withColumnRenamed(\"medical_indv_p1_final_\"+ yyyymm +\".cnt_new\",\"cnt_new\") \\\n    .withColumnRenamed(\"medical_indv_p1_final_\"+ yyyymm +\".sale_new\",\"sale_new\") \\\n    .withColumnRenamed(\"medical_indv_p1_final_\"+ yyyymm +\".term_month\",\"term_month\")",
			"metadata": {
				"trusted": true,
				"tags": []
			},
			"execution_count": 18,
			"outputs": [
				{
					"name": "stdout",
					"text": "\n",
					"output_type": "stream"
				}
			]
		},
		{
			"cell_type": "code",
			"source": "KB_GAIN_1_df.write \\\n    .mode(\"overwrite\") \\\n    .parquet(f\"{s3_bucket}/DI/CARD/KB_MEDI/RAW//GAIN_1/\"+ YYYY + \"/\" + MM)",
			"metadata": {
				"trusted": true,
				"tags": []
			},
			"execution_count": 20,
			"outputs": [
				{
					"name": "stdout",
					"text": "\n",
					"output_type": "stream"
				}
			]
		},
		{
			"cell_type": "markdown",
			"source": "## getRaw_2.scala",
			"metadata": {}
		},
		{
			"cell_type": "code",
			"source": "KB_GAIN_2_df = spark.read \\\n    .option(\"encoding\", \"utf-8\") \\\n    .option(\"header\", \"true\") \\\n    .csv(f\"{s3_bucket}/DI/CARD/KB_MEDI/ORG/\"+ YYYY +\"/\" + MM +\"/KB국민카드_의료서비스_개인파트2_월별매출집계데이터_\" + yyyymm + \".csv\") \\\n    .withColumnRenamed(\"medical_indv_p2_final_\"+ yyyymm +\".yyyymm\",\"yyyymm\") \\\n    .withColumnRenamed(\"medical_indv_p2_final_\"+ yyyymm +\".key\",\"key\") \\\n    .withColumnRenamed(\"medical_indv_p2_final_\"+ yyyymm +\".mega_gubun\",\"mega_gubun\") \\\n    .withColumnRenamed(\"medical_indv_p2_final_\"+ yyyymm +\".admi_cd\",\"admi_cd\") \\\n    .withColumnRenamed(\"medical_indv_p2_final_\"+ yyyymm +\".admi_nm\",\"admi_nm\") \\\n    .withColumnRenamed(\"medical_indv_p2_final_\"+ yyyymm +\".upjong1_cd\",\"upjong1_cd\") \\\n    .withColumnRenamed(\"medical_indv_p2_final_\"+ yyyymm +\".upjong1_nm\",\"upjong1_nm\") \\\n    .withColumnRenamed(\"medical_indv_p2_final_\"+ yyyymm +\".upjong2_cd\",\"upjong2_cd\") \\\n    .withColumnRenamed(\"medical_indv_p2_final_\"+ yyyymm +\".upjong2_nm\",\"upjong2_nm\") \\\n    .withColumnRenamed(\"medical_indv_p2_final_\"+ yyyymm +\".upjong3_cd\",\"upjong3_cd\") \\\n    .withColumnRenamed(\"medical_indv_p2_final_\"+ yyyymm +\".upjong3_nm\",\"upjong3_nm\") \\\n    .withColumnRenamed(\"medical_indv_p2_final_\"+ yyyymm +\".area1_nm\",\"area1_nm\") \\\n    .withColumnRenamed(\"medical_indv_p2_final_\"+ yyyymm +\".area1_ratio\",\"area1_ratio\") \\\n    .withColumnRenamed(\"medical_indv_p2_final_\"+ yyyymm +\".area2_nm\",\"area2_nm\") \\\n    .withColumnRenamed(\"medical_indv_p2_final_\"+ yyyymm +\".area2_ratio\",\"area2_ratio\") \\\n    .withColumnRenamed(\"medical_indv_p2_final_\"+ yyyymm +\".area3_nm\",\"area3_nm\") \\\n    .withColumnRenamed(\"medical_indv_p2_final_\"+ yyyymm +\".area3_ratio\",\"area3_ratio\") \\\n    .withColumnRenamed(\"medical_indv_p2_final_\"+ yyyymm +\".area4_nm\",\"area4_nm\") \\\n    .withColumnRenamed(\"medical_indv_p2_final_\"+ yyyymm +\".area4_ratio\",\"area4_ratio\") \\\n    .withColumnRenamed(\"medical_indv_p2_final_\"+ yyyymm +\".area5_nm\",\"area5_nm\") \\\n    .withColumnRenamed(\"medical_indv_p2_final_\"+ yyyymm +\".area5_ratio\",\"area5_ratio\") \\\n    .withColumnRenamed(\"medical_indv_p2_final_\"+ yyyymm +\".area6_nm\",\"area6_nm\") \\\n    .withColumnRenamed(\"medical_indv_p2_final_\"+ yyyymm +\".area6_ratio\",\"area6_ratio\") \\\n    .withColumnRenamed(\"medical_indv_p2_final_\"+ yyyymm +\".area7_nm\",\"area7_nm\") \\\n    .withColumnRenamed(\"medical_indv_p2_final_\"+ yyyymm +\".area7_ratio\",\"area7_ratio\") \\\n    .withColumnRenamed(\"medical_indv_p2_final_\"+ yyyymm +\".area8_nm\",\"area8_nm\") \\\n    .withColumnRenamed(\"medical_indv_p2_final_\"+ yyyymm +\".area8_ratio\",\"area8_ratio\") \\\n    .withColumnRenamed(\"medical_indv_p2_final_\"+ yyyymm +\".area9_nm\",\"area9_nm\") \\\n    .withColumnRenamed(\"medical_indv_p2_final_\"+ yyyymm +\".area9_ratio\",\"area9_ratio\") \\\n    .withColumnRenamed(\"medical_indv_p2_final_\"+ yyyymm +\".area10_nm\",\"area10_nm\") \\\n    .withColumnRenamed(\"medical_indv_p2_final_\"+ yyyymm +\".area10_ratio\",\"area10_ratio\")",
			"metadata": {
				"trusted": true,
				"tags": []
			},
			"execution_count": 24,
			"outputs": [
				{
					"name": "stdout",
					"text": "\n",
					"output_type": "stream"
				}
			]
		},
		{
			"cell_type": "code",
			"source": "KB_GAIN_2_df.write \\\n    .mode(\"overwrite\") \\\n    .parquet(f\"{s3_bucket}/DI/CARD/KB_MEDI/RAW//GAIN_2/\"+ YYYY + \"/\" + MM)",
			"metadata": {
				"trusted": true,
				"tags": []
			},
			"execution_count": 25,
			"outputs": [
				{
					"name": "stdout",
					"text": "\n",
					"output_type": "stream"
				}
			]
		},
		{
			"cell_type": "code",
			"source": "",
			"metadata": {},
			"execution_count": null,
			"outputs": []
		}
	]
}